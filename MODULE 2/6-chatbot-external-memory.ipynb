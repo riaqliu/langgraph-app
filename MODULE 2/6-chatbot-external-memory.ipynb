{
 "cells": [
  {
   "cell_type": "code",
   "execution_count": 24,
   "metadata": {},
   "outputs": [],
   "source": [
    "# Imports\n",
    "\n",
    "import sqlite3\n",
    "from langgraph.checkpoint.sqlite import SqliteSaver\n",
    "from langchain_openai import ChatOpenAI\n",
    "from langchain_core.messages import SystemMessage, HumanMessage, RemoveMessage\n",
    "from langgraph.graph import END, MessagesState, StateGraph, START\n",
    "\n",
    "from IPython.display import Image, display"
   ]
  },
  {
   "cell_type": "code",
   "execution_count": 25,
   "metadata": {},
   "outputs": [],
   "source": [
    "# conn = sqlite3.connect(\":memory:\", check_same_thread = False)\n",
    "db_path = \"./state_db/example.db\"\n",
    "conn = sqlite3.connect(db_path, check_same_thread=False)\n",
    "memory = SqliteSaver(conn)\n",
    "\n",
    "model = ChatOpenAI(model=\"gpt-4o\", temperature=0)"
   ]
  },
  {
   "cell_type": "code",
   "execution_count": 26,
   "metadata": {},
   "outputs": [],
   "source": [
    "class State(MessagesState):\n",
    "    summary: str\n",
    "\n",
    "def call_model(state: State):\n",
    "    summary = state.get(\"summary\", \"\")\n",
    "    if summary:\n",
    "        system_message = f\"Summary of the conversation earlier: {summary}\"\n",
    "        messages = [SystemMessage(content=system_message)] + state[\"messages\"]\n",
    "    else:\n",
    "        messages = state[\"messages\"]\n",
    "\n",
    "    response = model.invoke(messages)\n",
    "    return {\"messages\": response}\n",
    "\n",
    "def summarize_conversation(state: State):\n",
    "    summary = state.get(\"summary\", \"\")\n",
    "    if summary:\n",
    "        summary_message = (\n",
    "            f\"This is a summary of the conversation to date: {summary}\\n\\n\"\n",
    "            \"Extend the summary by taking into account the new messages above:\"\n",
    "        )\n",
    "    else:\n",
    "        summary_message = \"Create a summary of the conversation above:\"\n",
    "\n",
    "    messages = state[\"messages\"] + [HumanMessage(content=summary_message)]\n",
    "    response = model.invoke(messages)\n",
    "\n",
    "    delete_messages = [RemoveMessage(id=m.id) for m in state[\"messages\"][:-2]]\n",
    "    return {\"summary\": response.content, \"messages\": delete_messages}\n",
    "\n",
    "def should_continue(state: State):\n",
    "    \"\"\"Return the next node to execute.\"\"\"\n",
    "\n",
    "    messages = state[\"messages\"]\n",
    "\n",
    "    if len(messages) > 6:\n",
    "        return \"summarize\"\n",
    "\n",
    "    return END"
   ]
  },
  {
   "cell_type": "code",
   "execution_count": 7,
   "metadata": {},
   "outputs": [
    {
     "data": {
      "image/png": "[encoded data removed]",
      "text/plain": [
       "<IPython.core.display.Image object>"
      ]
     },
     "metadata": {},
     "output_type": "display_data"
    }
   ],
   "source": [
    "config = {\"configurable\": {\"thread_id\": \"34\"}}\n",
    "\n",
    "workflow = StateGraph(State)\n",
    "workflow.add_node(\"chat\", call_model)\n",
    "workflow.add_node(\"summarize\", summarize_conversation)\n",
    "\n",
    "workflow.add_edge(START, \"chat\")\n",
    "workflow.add_conditional_edges(\"chat\", should_continue)\n",
    "workflow.add_edge(\"summarize\", END)\n",
    "\n",
    "graph = workflow.compile(checkpointer=memory)\n",
    "display(Image(graph.get_graph().draw_mermaid_png()))"
   ]
  },
  {
   "cell_type": "code",
   "execution_count": null,
   "metadata": {},
   "outputs": [],
   "source": [
    "def converse(message:str):\n",
    "    input_message = HumanMessage(content=message)\n",
    "    output = graph.invoke({\"messages\": [input_message]}, config)\n",
    "    for m in output['messages'][-1:]:\n",
    "        m.pretty_print()\n",
    "\n",
    "\n",
    "# messages = [\n",
    "#     \"hi! I'm Angelo.\",\n",
    "#     \"what was my name?\",\n",
    "#     \"i like video games.\"\n",
    "# ]\n",
    "\n",
    "# for m in messages:\n",
    "#     converse(m)\n",
    "\n"
   ]
  },
  {
   "cell_type": "markdown",
   "metadata": {},
   "source": [
    "## Persisting state"
   ]
  },
  {
   "cell_type": "code",
   "execution_count": 23,
   "metadata": {},
   "outputs": [
    {
     "data": {
      "text/plain": [
       "[HumanMessage(content='hello', additional_kwargs={}, response_metadata={}, id='95e4681c-ed35-4755-b8df-7265daa93fa1'),\n",
       " AIMessage(content='Hello! How can I assist you today?', additional_kwargs={'refusal': None}, response_metadata={'token_usage': {'completion_tokens': 10, 'prompt_tokens': 1307, 'total_tokens': 1317, 'completion_tokens_details': {'accepted_prediction_tokens': 0, 'audio_tokens': 0, 'reasoning_tokens': 0, 'rejected_prediction_tokens': 0}, 'prompt_tokens_details': {'audio_tokens': 0, 'cached_tokens': 1152}}, 'model_name': 'gpt-4o-2024-08-06', 'system_fingerprint': 'fp_d28bcae782', 'finish_reason': 'stop', 'logprobs': None}, id='run-367efc04-68ce-4a2a-9bb8-84749423e9a6-0', usage_metadata={'input_tokens': 1307, 'output_tokens': 10, 'total_tokens': 1317, 'input_token_details': {'audio': 0, 'cache_read': 1152}, 'output_token_details': {'audio': 0, 'reasoning': 0}})]"
      ]
     },
     "execution_count": 23,
     "metadata": {},
     "output_type": "execute_result"
    }
   ],
   "source": [
    "graph_state = graph.get_state(config)\n",
    "graph_state.values[\"messages\"]"
   ]
  },
  {
   "cell_type": "code",
   "execution_count": 11,
   "metadata": {},
   "outputs": [
    {
     "name": "stdout",
     "output_type": "stream",
     "text": [
      "==================================\u001b[1m Ai Message \u001b[0m==================================\n",
      "\n",
      "Certainly! Grand strategy games are a subgenre of strategy video games that focus on high-level strategic planning and management over large-scale environments, often spanning entire nations or even the world. These games typically involve complex decision-making and long-term planning, where players control various aspects of a civilization, country, or empire. Here are some key features of grand strategy games:\n",
      "\n",
      "1. **Scale and Scope**: Grand strategy games often cover extensive time periods and large geographical areas. Players might manage an entire country or empire, dealing with political, economic, military, and diplomatic aspects.\n",
      "\n",
      "2. **Complexity**: These games are known for their depth and complexity. Players must consider numerous factors, such as resource management, technological development, and international relations.\n",
      "\n",
      "3. **Historical or Fictional Settings**: Many grand strategy games are set in historical periods, allowing players to rewrite history. Others might be set in fictional worlds or future scenarios.\n",
      "\n",
      "4. **Diplomacy and Warfare**: Players often engage in diplomacy, forming alliances, negotiating treaties, and sometimes engaging in warfare. Military strategy is a significant component, but it's usually just one part of the overall gameplay.\n",
      "\n",
      "5. **Non-linear Gameplay**: Grand strategy games often offer open-ended gameplay, allowing players to set their own goals and strategies. There is usually no single \"correct\" way to play.\n",
      "\n",
      "6. **Real-time or Turn-based**: These games can be either real-time, where events unfold continuously, or turn-based, where players take turns making decisions.\n",
      "\n",
      "Popular examples of grand strategy games include the \"Europa Universalis\" series, \"Crusader Kings,\" \"Hearts of Iron,\" and \"Stellaris,\" all developed by Paradox Interactive. These games are known for their detailed mechanics and the freedom they offer players to shape the course of history or explore complex fictional universes.\n",
      "==================================\u001b[1m Ai Message \u001b[0m==================================\n",
      "\n",
      "Paradox Interactive is widely regarded as the most popular and influential company in the grand strategy game (GSG) genre. They have developed and published several critically acclaimed grand strategy titles, including:\n",
      "\n",
      "1. **Europa Universalis Series**: Focuses on managing a nation from the late Middle Ages through the early modern period, emphasizing exploration, trade, warfare, and diplomacy.\n",
      "\n",
      "2. **Crusader Kings Series**: A unique blend of grand strategy and role-playing, where players manage a medieval dynasty, dealing with political intrigue, succession, and personal relationships.\n",
      "\n",
      "3. **Hearts of Iron Series**: Centers on World War II, allowing players to control any nation during the conflict, focusing on military strategy, production, and diplomacy.\n",
      "\n",
      "4. **Stellaris**: A science fiction grand strategy game that explores space exploration, empire building, and interstellar diplomacy.\n",
      "\n",
      "5. **Victoria Series**: Covers the 19th and early 20th centuries, focusing on industrialization, political reforms, and colonial expansion.\n",
      "\n",
      "Paradox Interactive is known for its deep, complex gameplay mechanics and its commitment to supporting games with expansions and updates, which keep the player community engaged for years. Their games often have a steep learning curve but offer rich, rewarding experiences for those who enjoy strategic depth and historical or fictional narratives.\n",
      "==================================\u001b[1m Ai Message \u001b[0m==================================\n",
      "\n",
      "Getting a job at Paradox Interactive, or any game development company, involves several steps and requires a combination of skills, experience, and networking. Here’s a general guide to help you pursue a career at Paradox Interactive:\n",
      "\n",
      "1. **Research and Understand the Company**: Familiarize yourself with Paradox Interactive’s games, company culture, and values. Understanding their products and what makes them unique will help you tailor your application and demonstrate your passion for their work.\n",
      "\n",
      "2. **Develop Relevant Skills**: Depending on the role you’re interested in (e.g., game design, programming, art, marketing), you’ll need specific skills:\n",
      "   - **Game Design**: Knowledge of game mechanics, storytelling, and user experience.\n",
      "   - **Programming**: Proficiency in languages like C++, C#, or Python, and experience with game engines such as Unity or Unreal Engine.\n",
      "   - **Art and Animation**: Skills in 2D/3D art, animation, and software like Photoshop, Blender, or Maya.\n",
      "   - **Marketing and Community Management**: Experience in digital marketing, social media, and community engagement.\n",
      "\n",
      "3. **Build a Portfolio**: Create a portfolio showcasing your work. This could include game projects, art samples, or any relevant work that demonstrates your skills and creativity.\n",
      "\n",
      "4. **Gain Experience**: Work on personal projects, join game jams, or contribute to indie games to gain practical experience. Internships or entry-level positions in the gaming industry can also be valuable.\n",
      "\n",
      "5. **Network**: Connect with industry professionals through events, online forums, and social media platforms like LinkedIn. Networking can provide insights into job opportunities and help you learn more about the industry.\n",
      "\n",
      "6. **Apply for Open Positions**: Check Paradox Interactive’s careers page for job openings. Tailor your resume and cover letter to highlight your relevant skills and experiences. Be sure to express your enthusiasm for their games and how you can contribute to their team.\n",
      "\n",
      "7. **Prepare for Interviews**: If you’re selected for an interview, prepare by reviewing common interview questions and practicing your responses. Be ready to discuss your portfolio and how your skills align with the company’s needs.\n",
      "\n",
      "8. **Stay Persistent and Open to Opportunities**: The gaming industry is competitive, so it may take time to land a job. Stay persistent, continue improving your skills, and be open to opportunities that may arise.\n",
      "\n",
      "By following these steps and demonstrating your passion and skills, you can increase your chances of securing a position at Paradox Interactive or another game development company.\n"
     ]
    }
   ],
   "source": [
    "messages = [\n",
    "    \"can you tell me more about grand strategy games?\",\n",
    "    \"which company is the most popular for GSGs?\",\n",
    "    \"how do i get a job at that company?\"\n",
    "]\n",
    "\n",
    "for m in messages:\n",
    "    converse(m)"
   ]
  },
  {
   "cell_type": "code",
   "execution_count": 21,
   "metadata": {},
   "outputs": [
    {
     "name": "stdout",
     "output_type": "stream",
     "text": [
      "==================================\u001b[1m Ai Message \u001b[0m==================================\n",
      "\n",
      "Hello! How can I assist you today?\n"
     ]
    }
   ],
   "source": [
    "converse(\"hello\")"
   ]
  }
 ],
 "metadata": {
  "kernelspec": {
   "display_name": "3.13.0",
   "language": "python",
   "name": "python3"
  },
  "language_info": {
   "codemirror_mode": {
    "name": "ipython",
    "version": 3
   },
   "file_extension": ".py",
   "mimetype": "text/x-python",
   "name": "python",
   "nbconvert_exporter": "python",
   "pygments_lexer": "ipython3",
   "version": "3.13.0"
  }
 },
 "nbformat": 4,
 "nbformat_minor": 2
}
