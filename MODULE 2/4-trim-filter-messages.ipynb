{
 "cells": [
  {
   "cell_type": "code",
   "execution_count": 10,
   "metadata": {},
   "outputs": [
    {
     "name": "stdout",
     "output_type": "stream",
     "text": [
      "==================================\u001b[1m Ai Message \u001b[0m==================================\n",
      "Name: Bot\n",
      "\n",
      "So you said you were researching fictional creatures?\n",
      "================================\u001b[1m Human Message \u001b[0m=================================\n",
      "Name: Lance\n",
      "\n",
      "Yes, I was wondering if there were mythical beings other than dragons.\n"
     ]
    }
   ],
   "source": [
    "from langchain_core.messages import AIMessage, HumanMessage\n",
    "from langgraph.graph.message import add_messages\n",
    "\n",
    "messages = [AIMessage(f\"So you said you were researching fictional creatures?\", name=\"Bot\")]\n",
    "messages = add_messages(messages, HumanMessage(f\"Yes, I was wondering if there were mythical beings other than dragons.\", name=\"Lance\"))\n",
    "\n",
    "for m in messages:\n",
    "    m.pretty_print()"
   ]
  },
  {
   "cell_type": "code",
   "execution_count": 11,
   "metadata": {},
   "outputs": [
    {
     "data": {
      "text/plain": [
       "AIMessage(content='Absolutely! There are numerous mythical beings from various cultures around the world. Here are a few examples:\\n\\n1. **Phoenix**: A mythical bird that is said to burst into flames upon death and be reborn from its ashes, symbolizing renewal and immortality. It appears in various cultures, including Greek, Egyptian, and Chinese mythology.\\n\\n2. **Unicorn**: A legendary creature often depicted as a horse with a single, spiraling horn protruding from its forehead. It is commonly associated with purity and grace and appears in European folklore.\\n\\n3. **Griffin**: A creature with the body of a lion and the head and wings of an eagle. Griffins are known for guarding treasures and valuables in various mythologies, particularly Greek.\\n\\n4. **Kraken**: A legendary sea monster of enormous size said to dwell off the coasts of Norway and Greenland. It often appears as a giant octopus or squid capable of dragging entire ships under the sea.\\n\\n5. **Chimera**: In Greek mythology, the Chimera is a monstrous fire-breathing hybrid creature composed of parts from different animals, typically a lion, goat, and serpent.\\n\\n6. **Banshee**: In Irish folklore, a banshee is a spirit or fairy woman who wails to warn of an impending death in a family.\\n\\n7. **Minotaur**: A creature with the head of a bull and the body of a man, which in Greek mythology was kept in the Labyrinth on the island of Crete.\\n\\n8. **Yeti**: Also known as the \"Abominable Snowman,\" the Yeti is a mythical ape-like creature said to inhabit the Himalayan mountains.\\n\\nThese are just a few examples, and there are many more mythical creatures with rich histories and variations across different cultures.', additional_kwargs={'refusal': None}, response_metadata={'token_usage': {'completion_tokens': 369, 'prompt_tokens': 38, 'total_tokens': 407, 'completion_tokens_details': {'accepted_prediction_tokens': 0, 'audio_tokens': 0, 'reasoning_tokens': 0, 'rejected_prediction_tokens': 0}, 'prompt_tokens_details': {'audio_tokens': 0, 'cached_tokens': 0}}, 'model_name': 'gpt-4o-2024-08-06', 'system_fingerprint': 'fp_d28bcae782', 'finish_reason': 'stop', 'logprobs': None}, id='run-fc3231cf-b428-400d-85f4-b71a458a065a-0', usage_metadata={'input_tokens': 38, 'output_tokens': 369, 'total_tokens': 407, 'input_token_details': {'audio': 0, 'cache_read': 0}, 'output_token_details': {'audio': 0, 'reasoning': 0}})"
      ]
     },
     "execution_count": 11,
     "metadata": {},
     "output_type": "execute_result"
    }
   ],
   "source": [
    "from langchain_openai import ChatOpenAI\n",
    "llm = ChatOpenAI(model=\"gpt-4o\")\n",
    "llm.invoke(messages)"
   ]
  },
  {
   "cell_type": "code",
   "execution_count": 12,
   "metadata": {},
   "outputs": [
    {
     "data": {
      "image/png": "[encoded data removed]",
      "text/plain": [
       "<IPython.core.display.Image object>"
      ]
     },
     "metadata": {},
     "output_type": "display_data"
    }
   ],
   "source": [
    "from IPython.display import Image, display\n",
    "from langgraph.graph import MessagesState, StateGraph, START, END\n",
    "\n",
    "def chat_model_node(state: MessagesState):\n",
    "    return {\"messages\": llm.invoke(state[\"messages\"])}\n",
    "\n",
    "builder = StateGraph(MessagesState)\n",
    "builder.add_node(\"chat_model\", chat_model_node)\n",
    "builder.add_edge(START, \"chat_model\")\n",
    "builder.add_edge(\"chat_model\", END)\n",
    "graph = builder.compile()\n",
    "\n",
    "display(Image(graph.get_graph().draw_mermaid_png()))"
   ]
  },
  {
   "cell_type": "code",
   "execution_count": 13,
   "metadata": {},
   "outputs": [
    {
     "name": "stdout",
     "output_type": "stream",
     "text": [
      "==================================\u001b[1m Ai Message \u001b[0m==================================\n",
      "Name: Bot\n",
      "\n",
      "So you said you were researching fictional creatures?\n",
      "================================\u001b[1m Human Message \u001b[0m=================================\n",
      "Name: Lance\n",
      "\n",
      "Yes, I was wondering if there were mythical beings other than dragons.\n",
      "==================================\u001b[1m Ai Message \u001b[0m==================================\n",
      "\n",
      "Absolutely, there are many mythical beings from various cultures around the world, each with their own unique characteristics and stories. Here are a few examples:\n",
      "\n",
      "1. **Phoenix**: A mythical bird from Greek mythology that is cyclically regenerated or reborn. Associated with the sun, it obtains new life by arising from the ashes of its predecessor.\n",
      "\n",
      "2. **Unicorn**: A legendary creature that has been described since antiquity as a beast with a single large, pointed, spiraling horn projecting from its forehead. Often depicted as a symbol of purity and grace in Western mythology.\n",
      "\n",
      "3. **Griffin**: A creature with the body, tail, and back legs of a lion, the head and wings of an eagle, and sometimes an eagle's talons as its front feet. Griffins are known for guarding treasures and priceless possessions.\n",
      "\n",
      "4. **Kraken**: A legendary sea monster of enormous size said to dwell off the coasts of Norway and Greenland. It is often depicted as a giant octopus or squid.\n",
      "\n",
      "5. **Chimera**: In Greek mythology, a monstrous fire-breathing hybrid creature composed of the parts of more than one animal. It is usually depicted as a lion, with the head of a goat arising from its back, and a tail that might end with a snake's head.\n",
      "\n",
      "6. **Banshee**: In Irish folklore, a banshee is a female spirit who heralds the death of a family member, usually by wailing or shrieking.\n",
      "\n",
      "7. **Yeti**: Also known as the Abominable Snowman, it is an ape-like creature said to inhabit the Himalayan mountain range in Asia.\n",
      "\n",
      "8. **Mermaid**: A legendary aquatic creature with the head and upper body of a female human and the tail of a fish.\n",
      "\n",
      "These are just a few examples, and many cultures have their own unique mythical creatures, each with a rich history of stories and symbolism.\n"
     ]
    }
   ],
   "source": [
    "output = graph.invoke({'messages': messages})\n",
    "for m in output['messages']:\n",
    "    m.pretty_print()"
   ]
  },
  {
   "cell_type": "code",
   "execution_count": 14,
   "metadata": {},
   "outputs": [
    {
     "data": {
      "image/png": "[encoded data removed]",
      "text/plain": [
       "<IPython.core.display.Image object>"
      ]
     },
     "metadata": {},
     "output_type": "display_data"
    }
   ],
   "source": [
    "from langchain_core.messages import RemoveMessage\n",
    "\n",
    "def filter_messages(state: MessagesState):\n",
    "    delete_messages = [RemoveMessage(id=m.id) for m in state[\"messages\"][:-2]]\n",
    "    return {\"messages\": delete_messages}\n",
    "\n",
    "def chat_model_node(state: MessagesState):\n",
    "    return {\"messages\": [llm.invoke(state[\"messages\"])]}\n",
    "\n",
    "builder = StateGraph(MessagesState)\n",
    "builder.add_node(\"filter\", filter_messages)\n",
    "builder.add_node(\"chat_model\", chat_model_node)\n",
    "builder.add_edge(START, \"filter\")\n",
    "builder.add_edge(\"filter\", \"chat_model\")\n",
    "builder.add_edge(\"chat_model\", END)\n",
    "graph = builder.compile()\n",
    "\n",
    "display(Image(graph.get_graph().draw_mermaid_png()))"
   ]
  },
  {
   "cell_type": "code",
   "execution_count": 15,
   "metadata": {},
   "outputs": [],
   "source": [
    "messages = [AIMessage(\"Hi.\", name=\"Bot\", id=\"1\")]\n",
    "messages.append(HumanMessage(\"Hi.\", name=\"Lance\", id=\"2\"))\n",
    "messages.append(AIMessage(f\"So you said you were researching fictional creatures?\", name=\"Bot\", id=\"3\"))\n",
    "messages.append(HumanMessage(f\"Yes, I was wondering if there were mythical beings other than dragons.\", name=\"Lance\", id=\"4\"))"
   ]
  },
  {
   "cell_type": "code",
   "execution_count": 17,
   "metadata": {},
   "outputs": [
    {
     "name": "stdout",
     "output_type": "stream",
     "text": [
      "==================================\u001b[1m Ai Message \u001b[0m==================================\n",
      "Name: Bot\n",
      "\n",
      "So you said you were researching fictional creatures?\n",
      "================================\u001b[1m Human Message \u001b[0m=================================\n",
      "Name: Lance\n",
      "\n",
      "Yes, I was wondering if there were mythical beings other than dragons.\n",
      "==================================\u001b[1m Ai Message \u001b[0m==================================\n",
      "\n",
      "Certainly! There are numerous mythical creatures from cultures around the world, each with its own unique characteristics and stories. Here are a few notable ones:\n",
      "\n",
      "1. **Unicorn** - A legendary horse-like creature with a single spiraling horn on its forehead, often associated with purity and grace.\n",
      "\n",
      "2. **Phoenix** - A mythical bird that regenerates or is reborn from its ashes after dying, symbolizing renewal and immortality.\n",
      "\n",
      "3. **Kraken** - A giant sea monster from Scandinavian folklore, said to dwell off the coasts of Norway and Greenland, often depicted as a massive octopus or squid.\n",
      "\n",
      "4. **Griffin** - A creature with the body of a lion and the head and wings of an eagle, known for being a guardian of treasures.\n",
      "\n",
      "5. **Chimera** - From Greek mythology, a fire-breathing hybrid creature usually depicted as a lion with the head of a goat arising from its back and a tail that ends with a snake's head.\n",
      "\n",
      "6. **Minotaur** - A creature with the body of a man and the head of a bull, famously associated with the labyrinth of Crete.\n",
      "\n",
      "7. **Banshee** - From Irish folklore, a female spirit who heralds the death of a family member by wailing or keening.\n",
      "\n",
      "8. **Yeti** - Also known as the Abominable Snowman, a large, ape-like creature said to inhabit the Himalayan mountains.\n",
      "\n",
      "9. **Mermaid/Merman** - Aquatic beings with the upper body of a human and the tail of a fish, appearing in the folklore of many cultures worldwide.\n",
      "\n",
      "10. **Cerberus** - The multi-headed dog that guards the entrance to the underworld in Greek mythology, preventing the dead from leaving.\n",
      "\n",
      "These creatures often serve as symbols or carry moral lessons in their respective mythologies, and they continue to capture the human imagination in literature, art, and popular culture.\n"
     ]
    }
   ],
   "source": [
    "output = graph.invoke({'messages': messages})\n",
    "for m in output['messages']:\n",
    "    m.pretty_print()"
   ]
  },
  {
   "cell_type": "code",
   "execution_count": 20,
   "metadata": {},
   "outputs": [
    {
     "data": {
      "image/png": "[encoded data removed]",
      "text/plain": [
       "<IPython.core.display.Image object>"
      ]
     },
     "metadata": {},
     "output_type": "display_data"
    }
   ],
   "source": [
    "def chat_model_node(state: MessagesState):\n",
    "    return {\"messages\": [llm.invoke(state[\"messages\"][-1:])]}\n",
    "\n",
    "builder = StateGraph(MessagesState)\n",
    "builder.add_node(\"chat_model\", chat_model_node)\n",
    "builder.add_edge(START, \"chat_model\")\n",
    "builder.add_edge(\"chat_model\", END)\n",
    "graph = builder.compile()\n",
    "\n",
    "display(Image(graph.get_graph().draw_mermaid_png()))"
   ]
  },
  {
   "cell_type": "code",
   "execution_count": 22,
   "metadata": {},
   "outputs": [
    {
     "name": "stdout",
     "output_type": "stream",
     "text": [
      "==================================\u001b[1m Ai Message \u001b[0m==================================\n",
      "Name: Bot\n",
      "\n",
      "Hi.\n",
      "================================\u001b[1m Human Message \u001b[0m=================================\n",
      "Name: Lance\n",
      "\n",
      "Hi.\n",
      "==================================\u001b[1m Ai Message \u001b[0m==================================\n",
      "Name: Bot\n",
      "\n",
      "So you said you were researching fictional creatures?\n",
      "================================\u001b[1m Human Message \u001b[0m=================================\n",
      "Name: Lance\n",
      "\n",
      "Yes, I was wondering if there were mythical beings other than dragons.\n",
      "==================================\u001b[1m Ai Message \u001b[0m==================================\n",
      "\n",
      "Certainly! There are numerous mythical creatures from cultures around the world, each with its own unique characteristics and stories. Here are a few notable ones:\n",
      "\n",
      "1. **Unicorn** - A legendary horse-like creature with a single spiraling horn on its forehead, often associated with purity and grace.\n",
      "\n",
      "2. **Phoenix** - A mythical bird that regenerates or is reborn from its ashes after dying, symbolizing renewal and immortality.\n",
      "\n",
      "3. **Kraken** - A giant sea monster from Scandinavian folklore, said to dwell off the coasts of Norway and Greenland, often depicted as a massive octopus or squid.\n",
      "\n",
      "4. **Griffin** - A creature with the body of a lion and the head and wings of an eagle, known for being a guardian of treasures.\n",
      "\n",
      "5. **Chimera** - From Greek mythology, a fire-breathing hybrid creature usually depicted as a lion with the head of a goat arising from its back and a tail that ends with a snake's head.\n",
      "\n",
      "6. **Minotaur** - A creature with the body of a man and the head of a bull, famously associated with the labyrinth of Crete.\n",
      "\n",
      "7. **Banshee** - From Irish folklore, a female spirit who heralds the death of a family member by wailing or keening.\n",
      "\n",
      "8. **Yeti** - Also known as the Abominable Snowman, a large, ape-like creature said to inhabit the Himalayan mountains.\n",
      "\n",
      "9. **Mermaid/Merman** - Aquatic beings with the upper body of a human and the tail of a fish, appearing in the folklore of many cultures worldwide.\n",
      "\n",
      "10. **Cerberus** - The multi-headed dog that guards the entrance to the underworld in Greek mythology, preventing the dead from leaving.\n",
      "\n",
      "These creatures often serve as symbols or carry moral lessons in their respective mythologies, and they continue to capture the human imagination in literature, art, and popular culture.\n",
      "================================\u001b[1m Human Message \u001b[0m=================================\n",
      "Name: Lance\n",
      "\n",
      "Tell me more about Krakens\n",
      "==================================\u001b[1m Ai Message \u001b[0m==================================\n",
      "\n",
      "Certainly! There are numerous mythical creatures from cultures around the world, each with its own unique characteristics and stories. Here are a few notable ones:\n",
      "\n",
      "1. **Unicorn** - A legendary horse-like creature with a single spiraling horn on its forehead, often associated with purity and grace.\n",
      "\n",
      "2. **Phoenix** - A mythical bird that regenerates or is reborn from its ashes after dying, symbolizing renewal and immortality.\n",
      "\n",
      "3. **Kraken** - A giant sea monster from Scandinavian folklore, said to dwell off the coasts of Norway and Greenland, often depicted as a massive octopus or squid.\n",
      "\n",
      "4. **Griffin** - A creature with the body of a lion and the head and wings of an eagle, known for being a guardian of treasures.\n",
      "\n",
      "5. **Chimera** - From Greek mythology, a fire-breathing hybrid creature usually depicted as a lion with the head of a goat arising from its back and a tail that ends with a snake's head.\n",
      "\n",
      "6. **Minotaur** - A creature with the body of a man and the head of a bull, famously associated with the labyrinth of Crete.\n",
      "\n",
      "7. **Banshee** - From Irish folklore, a female spirit who heralds the death of a family member by wailing or keening.\n",
      "\n",
      "8. **Yeti** - Also known as the Abominable Snowman, a large, ape-like creature said to inhabit the Himalayan mountains.\n",
      "\n",
      "9. **Mermaid/Merman** - Aquatic beings with the upper body of a human and the tail of a fish, appearing in the folklore of many cultures worldwide.\n",
      "\n",
      "10. **Cerberus** - The multi-headed dog that guards the entrance to the underworld in Greek mythology, preventing the dead from leaving.\n",
      "\n",
      "These creatures often serve as symbols or carry moral lessons in their respective mythologies, and they continue to capture the human imagination in literature, art, and popular culture.\n",
      "================================\u001b[1m Human Message \u001b[0m=================================\n",
      "Name: Lance\n",
      "\n",
      "Tell me more about Krakens\n",
      "==================================\u001b[1m Ai Message \u001b[0m==================================\n",
      "\n",
      "Krakens are legendary sea monsters of enormous size that are said to dwell off the coasts of Norway and Greenland. They are often depicted as gigantic octopus or squid-like creatures and have been a part of maritime folklore for centuries. The myth of the Kraken likely originated from sightings of real-life giant squids, which can grow to impressive lengths and are capable of powerful displays in the water.\n",
      "\n",
      "### Historical Accounts and Folklore:\n",
      "1. **Scandinavian Origins**: The Kraken is deeply rooted in Norse mythology and Scandinavian folklore. It was first mentioned in a travelogue by Francesco Negri in 1700. The earliest description resembling the Kraken appears in the travelogue of Francesco Negri from 1700.\n",
      "\n",
      "2. **Erik Pontoppidan**: In the 18th century, Bishop Erik Pontoppidan of Bergen provided one of the earliest detailed descriptions of the Kraken in his work \"The Natural History of Norway\" (1752). He described it as a creature so large that its body could be mistaken for an island.\n",
      "\n",
      "3. **The Kraken in Literature**: The Kraken has appeared in various works of fiction, most notably in Alfred Lord Tennyson's sonnet \"The Kraken,\" as well as in Herman Melville's \"Moby-Dick.\"\n",
      "\n",
      "### Characteristics:\n",
      "- **Size**: Krakens are described as being incredibly large, with some tales suggesting they could wrap their tentacles around entire ships and drag them underwater.\n",
      "- **Appearance**: Typically depicted with long tentacles, similar to an octopus or squid, and often featuring a massive, gaping mouth.\n",
      "- **Behavior**: Legends often portray Krakens as dangerous creatures capable of creating massive whirlpools to sink ships.\n",
      "\n",
      "### Modern Interpretations:\n",
      "- **In Popular Culture**: The Kraken has been popularized in various films, television shows, and video games, often depicted as a colossal and terrifying creature. It's featured in movies like \"Pirates of the Caribbean: Dead Man's Chest\" and has become a staple of sea monster lore.\n",
      "- **Scientific Basis**: Some believe that the myths of the Kraken were inspired by real-life encounters with giant squids or colossal squids, which can grow up to 43 feet long.\n",
      "\n",
      "In summary, the Kraken is a fascinating blend of myth, literature, and potential reality, capturing the human imagination with its awe-inspiring size and the mystery of the deep sea.\n"
     ]
    }
   ],
   "source": [
    "messages.append(output['messages'][-1])\n",
    "messages.append(HumanMessage(f\"Tell me more about Krakens\", name=\"Lance\"))\n",
    "\n",
    "output = graph.invoke({'messages': messages})\n",
    "for m in output['messages']:\n",
    "    m.pretty_print()"
   ]
  },
  {
   "cell_type": "code",
   "execution_count": 28,
   "metadata": {},
   "outputs": [
    {
     "name": "stdout",
     "output_type": "stream",
     "text": [
      "==================================\u001b[1m Ai Message \u001b[0m==================================\n",
      "Name: Bot\n",
      "\n",
      "Hi.\n",
      "================================\u001b[1m Human Message \u001b[0m=================================\n",
      "Name: Lance\n",
      "\n",
      "Hi.\n",
      "==================================\u001b[1m Ai Message \u001b[0m==================================\n",
      "Name: Bot\n",
      "\n",
      "So you said you were researching fictional creatures?\n",
      "================================\u001b[1m Human Message \u001b[0m=================================\n",
      "Name: Lance\n",
      "\n",
      "Yes, I was wondering if there were mythical beings other than dragons.\n",
      "==================================\u001b[1m Ai Message \u001b[0m==================================\n",
      "\n",
      "Certainly! There are numerous mythical creatures from cultures around the world, each with its own unique characteristics and stories. Here are a few notable ones:\n",
      "\n",
      "1. **Unicorn** - A legendary horse-like creature with a single spiraling horn on its forehead, often associated with purity and grace.\n",
      "\n",
      "2. **Phoenix** - A mythical bird that regenerates or is reborn from its ashes after dying, symbolizing renewal and immortality.\n",
      "\n",
      "3. **Kraken** - A giant sea monster from Scandinavian folklore, said to dwell off the coasts of Norway and Greenland, often depicted as a massive octopus or squid.\n",
      "\n",
      "4. **Griffin** - A creature with the body of a lion and the head and wings of an eagle, known for being a guardian of treasures.\n",
      "\n",
      "5. **Chimera** - From Greek mythology, a fire-breathing hybrid creature usually depicted as a lion with the head of a goat arising from its back and a tail that ends with a snake's head.\n",
      "\n",
      "6. **Minotaur** - A creature with the body of a man and the head of a bull, famously associated with the labyrinth of Crete.\n",
      "\n",
      "7. **Banshee** - From Irish folklore, a female spirit who heralds the death of a family member by wailing or keening.\n",
      "\n",
      "8. **Yeti** - Also known as the Abominable Snowman, a large, ape-like creature said to inhabit the Himalayan mountains.\n",
      "\n",
      "9. **Mermaid/Merman** - Aquatic beings with the upper body of a human and the tail of a fish, appearing in the folklore of many cultures worldwide.\n",
      "\n",
      "10. **Cerberus** - The multi-headed dog that guards the entrance to the underworld in Greek mythology, preventing the dead from leaving.\n",
      "\n",
      "These creatures often serve as symbols or carry moral lessons in their respective mythologies, and they continue to capture the human imagination in literature, art, and popular culture.\n",
      "================================\u001b[1m Human Message \u001b[0m=================================\n",
      "Name: Lance\n",
      "\n",
      "Tell me more about Krakens\n",
      "==================================\u001b[1m Ai Message \u001b[0m==================================\n",
      "\n",
      "Certainly! There are numerous mythical creatures from cultures around the world, each with its own unique characteristics and stories. Here are a few notable ones:\n",
      "\n",
      "1. **Unicorn** - A legendary horse-like creature with a single spiraling horn on its forehead, often associated with purity and grace.\n",
      "\n",
      "2. **Phoenix** - A mythical bird that regenerates or is reborn from its ashes after dying, symbolizing renewal and immortality.\n",
      "\n",
      "3. **Kraken** - A giant sea monster from Scandinavian folklore, said to dwell off the coasts of Norway and Greenland, often depicted as a massive octopus or squid.\n",
      "\n",
      "4. **Griffin** - A creature with the body of a lion and the head and wings of an eagle, known for being a guardian of treasures.\n",
      "\n",
      "5. **Chimera** - From Greek mythology, a fire-breathing hybrid creature usually depicted as a lion with the head of a goat arising from its back and a tail that ends with a snake's head.\n",
      "\n",
      "6. **Minotaur** - A creature with the body of a man and the head of a bull, famously associated with the labyrinth of Crete.\n",
      "\n",
      "7. **Banshee** - From Irish folklore, a female spirit who heralds the death of a family member by wailing or keening.\n",
      "\n",
      "8. **Yeti** - Also known as the Abominable Snowman, a large, ape-like creature said to inhabit the Himalayan mountains.\n",
      "\n",
      "9. **Mermaid/Merman** - Aquatic beings with the upper body of a human and the tail of a fish, appearing in the folklore of many cultures worldwide.\n",
      "\n",
      "10. **Cerberus** - The multi-headed dog that guards the entrance to the underworld in Greek mythology, preventing the dead from leaving.\n",
      "\n",
      "These creatures often serve as symbols or carry moral lessons in their respective mythologies, and they continue to capture the human imagination in literature, art, and popular culture.\n",
      "================================\u001b[1m Human Message \u001b[0m=================================\n",
      "Name: Lance\n",
      "\n",
      "Tell me more about Krakens\n",
      "==================================\u001b[1m Ai Message \u001b[0m==================================\n",
      "\n",
      "Krakens are legendary sea monsters of enormous size that are said to dwell off the coasts of Norway and Greenland. They are often depicted as gigantic octopus or squid-like creatures and have been a part of maritime folklore for centuries. The myth of the Kraken likely originated from sightings of real-life giant squids, which can grow to impressive lengths and are capable of powerful displays in the water.\n",
      "\n",
      "### Historical Accounts and Folklore:\n",
      "1. **Scandinavian Origins**: The Kraken is deeply rooted in Norse mythology and Scandinavian folklore. It was first mentioned in a travelogue by Francesco Negri in 1700. The earliest description resembling the Kraken appears in the travelogue of Francesco Negri from 1700.\n",
      "\n",
      "2. **Erik Pontoppidan**: In the 18th century, Bishop Erik Pontoppidan of Bergen provided one of the earliest detailed descriptions of the Kraken in his work \"The Natural History of Norway\" (1752). He described it as a creature so large that its body could be mistaken for an island.\n",
      "\n",
      "3. **The Kraken in Literature**: The Kraken has appeared in various works of fiction, most notably in Alfred Lord Tennyson's sonnet \"The Kraken,\" as well as in Herman Melville's \"Moby-Dick.\"\n",
      "\n",
      "### Characteristics:\n",
      "- **Size**: Krakens are described as being incredibly large, with some tales suggesting they could wrap their tentacles around entire ships and drag them underwater.\n",
      "- **Appearance**: Typically depicted with long tentacles, similar to an octopus or squid, and often featuring a massive, gaping mouth.\n",
      "- **Behavior**: Legends often portray Krakens as dangerous creatures capable of creating massive whirlpools to sink ships.\n",
      "\n",
      "### Modern Interpretations:\n",
      "- **In Popular Culture**: The Kraken has been popularized in various films, television shows, and video games, often depicted as a colossal and terrifying creature. It's featured in movies like \"Pirates of the Caribbean: Dead Man's Chest\" and has become a staple of sea monster lore.\n",
      "- **Scientific Basis**: Some believe that the myths of the Kraken were inspired by real-life encounters with giant squids or colossal squids, which can grow up to 43 feet long.\n",
      "\n",
      "In summary, the Kraken is a fascinating blend of myth, literature, and potential reality, capturing the human imagination with its awe-inspiring size and the mystery of the deep sea.\n"
     ]
    }
   ],
   "source": [
    "for m in output['messages']:\n",
    "    m.pretty_print()"
   ]
  },
  {
   "cell_type": "markdown",
   "metadata": {},
   "source": [
    "# Trim Messages"
   ]
  },
  {
   "cell_type": "code",
   "execution_count": 31,
   "metadata": {},
   "outputs": [
    {
     "data": {
      "image/png": "[encoded data removed]",
      "text/plain": [
       "<IPython.core.display.Image object>"
      ]
     },
     "metadata": {},
     "output_type": "display_data"
    }
   ],
   "source": [
    "from langchain_core.messages import trim_messages\n",
    "\n",
    "def chat_model_node(state: MessagesState):\n",
    "    messages = trim_messages(\n",
    "        state[\"messages\"],\n",
    "        max_tokens=100,\n",
    "        strategy=\"last\",\n",
    "        token_counter=ChatOpenAI(model=\"gpt-4o\"),\n",
    "        allow_partial=False,\n",
    "    )\n",
    "    return {\"messages\": [llm.invoke(messages)]}\n",
    "\n",
    "builder = StateGraph(MessagesState)\n",
    "builder.add_node(\"chat_model\", chat_model_node)\n",
    "builder.add_edge(START, \"chat_model\")\n",
    "builder.add_edge(\"chat_model\", END)\n",
    "graph = builder.compile()\n",
    "\n",
    "display(Image(graph.get_graph().draw_mermaid_png()))"
   ]
  },
  {
   "cell_type": "code",
   "execution_count": null,
   "metadata": {},
   "outputs": [],
   "source": [
    "messages.append(output[\"messages\"][-1])\n",
    "messages.append(HumanMessage(f\"Tell me more about mythical sea creatures\", name=\"Lance\"))"
   ]
  },
  {
   "cell_type": "code",
   "execution_count": 34,
   "metadata": {},
   "outputs": [
    {
     "ename": "NotImplementedError",
     "evalue": "Unsupported message type: <class 'list'>\nFor troubleshooting, visit: https://python.langchain.com/docs/troubleshooting/errors/MESSAGE_COERCION_FAILURE ",
     "output_type": "error",
     "traceback": [
      "\u001b[0;31m---------------------------------------------------------------------------\u001b[0m",
      "\u001b[0;31mNotImplementedError\u001b[0m                       Traceback (most recent call last)",
      "Cell \u001b[0;32mIn[34], line 1\u001b[0m\n\u001b[0;32m----> 1\u001b[0m \u001b[43mtrim_messages\u001b[49m\u001b[43m(\u001b[49m\n\u001b[1;32m      2\u001b[0m \u001b[43m            \u001b[49m\u001b[43mmessages\u001b[49m\u001b[43m,\u001b[49m\n\u001b[1;32m      3\u001b[0m \u001b[43m            \u001b[49m\u001b[43mmax_tokens\u001b[49m\u001b[38;5;241;43m=\u001b[39;49m\u001b[38;5;241;43m100\u001b[39;49m\u001b[43m,\u001b[49m\n\u001b[1;32m      4\u001b[0m \u001b[43m            \u001b[49m\u001b[43mstrategy\u001b[49m\u001b[38;5;241;43m=\u001b[39;49m\u001b[38;5;124;43m\"\u001b[39;49m\u001b[38;5;124;43mlast\u001b[39;49m\u001b[38;5;124;43m\"\u001b[39;49m\u001b[43m,\u001b[49m\n\u001b[1;32m      5\u001b[0m \u001b[43m            \u001b[49m\u001b[43mtoken_counter\u001b[49m\u001b[38;5;241;43m=\u001b[39;49m\u001b[43mChatOpenAI\u001b[49m\u001b[43m(\u001b[49m\u001b[43mmodel\u001b[49m\u001b[38;5;241;43m=\u001b[39;49m\u001b[38;5;124;43m\"\u001b[39;49m\u001b[38;5;124;43mgpt-4o\u001b[39;49m\u001b[38;5;124;43m\"\u001b[39;49m\u001b[43m)\u001b[49m\u001b[43m,\u001b[49m\n\u001b[1;32m      6\u001b[0m \u001b[43m            \u001b[49m\u001b[43mallow_partial\u001b[49m\u001b[38;5;241;43m=\u001b[39;49m\u001b[38;5;28;43;01mFalse\u001b[39;49;00m\n\u001b[1;32m      7\u001b[0m \u001b[43m        \u001b[49m\u001b[43m)\u001b[49m\n",
      "File \u001b[0;32m~/.pyenv/versions/3.13.0/lib/python3.13/site-packages/langchain_core/messages/utils.py:381\u001b[0m, in \u001b[0;36m_runnable_support.<locals>.wrapped\u001b[0;34m(messages, **kwargs)\u001b[0m\n\u001b[1;32m    378\u001b[0m \u001b[38;5;28;01mfrom\u001b[39;00m \u001b[38;5;21;01mlangchain_core\u001b[39;00m\u001b[38;5;21;01m.\u001b[39;00m\u001b[38;5;21;01mrunnables\u001b[39;00m\u001b[38;5;21;01m.\u001b[39;00m\u001b[38;5;21;01mbase\u001b[39;00m \u001b[38;5;28;01mimport\u001b[39;00m RunnableLambda\n\u001b[1;32m    380\u001b[0m \u001b[38;5;28;01mif\u001b[39;00m messages \u001b[38;5;129;01mis\u001b[39;00m \u001b[38;5;129;01mnot\u001b[39;00m \u001b[38;5;28;01mNone\u001b[39;00m:\n\u001b[0;32m--> 381\u001b[0m     \u001b[38;5;28;01mreturn\u001b[39;00m \u001b[43mfunc\u001b[49m\u001b[43m(\u001b[49m\u001b[43mmessages\u001b[49m\u001b[43m,\u001b[49m\u001b[43m \u001b[49m\u001b[38;5;241;43m*\u001b[39;49m\u001b[38;5;241;43m*\u001b[39;49m\u001b[43mkwargs\u001b[49m\u001b[43m)\u001b[49m\n\u001b[1;32m    382\u001b[0m \u001b[38;5;28;01melse\u001b[39;00m:\n\u001b[1;32m    383\u001b[0m     \u001b[38;5;28;01mreturn\u001b[39;00m RunnableLambda(partial(func, \u001b[38;5;241m*\u001b[39m\u001b[38;5;241m*\u001b[39mkwargs), name\u001b[38;5;241m=\u001b[39mfunc\u001b[38;5;241m.\u001b[39m\u001b[38;5;18m__name__\u001b[39m)\n",
      "File \u001b[0;32m~/.pyenv/versions/3.13.0/lib/python3.13/site-packages/langchain_core/messages/utils.py:825\u001b[0m, in \u001b[0;36mtrim_messages\u001b[0;34m(messages, max_tokens, token_counter, strategy, allow_partial, end_on, start_on, include_system, text_splitter)\u001b[0m\n\u001b[1;32m    823\u001b[0m \u001b[38;5;28;01mif\u001b[39;00m include_system \u001b[38;5;129;01mand\u001b[39;00m strategy \u001b[38;5;241m==\u001b[39m \u001b[38;5;124m\"\u001b[39m\u001b[38;5;124mfirst\u001b[39m\u001b[38;5;124m\"\u001b[39m:\n\u001b[1;32m    824\u001b[0m     \u001b[38;5;28;01mraise\u001b[39;00m \u001b[38;5;167;01mValueError\u001b[39;00m\n\u001b[0;32m--> 825\u001b[0m messages \u001b[38;5;241m=\u001b[39m \u001b[43mconvert_to_messages\u001b[49m\u001b[43m(\u001b[49m\u001b[43mmessages\u001b[49m\u001b[43m)\u001b[49m\n\u001b[1;32m    826\u001b[0m \u001b[38;5;28;01mif\u001b[39;00m \u001b[38;5;28mhasattr\u001b[39m(token_counter, \u001b[38;5;124m\"\u001b[39m\u001b[38;5;124mget_num_tokens_from_messages\u001b[39m\u001b[38;5;124m\"\u001b[39m):\n\u001b[1;32m    827\u001b[0m     list_token_counter \u001b[38;5;241m=\u001b[39m token_counter\u001b[38;5;241m.\u001b[39mget_num_tokens_from_messages\n",
      "File \u001b[0;32m~/.pyenv/versions/3.13.0/lib/python3.13/site-packages/langchain_core/messages/utils.py:357\u001b[0m, in \u001b[0;36mconvert_to_messages\u001b[0;34m(messages)\u001b[0m\n\u001b[1;32m    355\u001b[0m \u001b[38;5;28;01mif\u001b[39;00m \u001b[38;5;28misinstance\u001b[39m(messages, PromptValue):\n\u001b[1;32m    356\u001b[0m     \u001b[38;5;28;01mreturn\u001b[39;00m messages\u001b[38;5;241m.\u001b[39mto_messages()\n\u001b[0;32m--> 357\u001b[0m \u001b[38;5;28;01mreturn\u001b[39;00m [\u001b[43m_convert_to_message\u001b[49m\u001b[43m(\u001b[49m\u001b[43mm\u001b[49m\u001b[43m)\u001b[49m \u001b[38;5;28;01mfor\u001b[39;00m m \u001b[38;5;129;01min\u001b[39;00m messages]\n",
      "File \u001b[0;32m~/.pyenv/versions/3.13.0/lib/python3.13/site-packages/langchain_core/messages/utils.py:336\u001b[0m, in \u001b[0;36m_convert_to_message\u001b[0;34m(message)\u001b[0m\n\u001b[1;32m    334\u001b[0m     msg \u001b[38;5;241m=\u001b[39m \u001b[38;5;124mf\u001b[39m\u001b[38;5;124m\"\u001b[39m\u001b[38;5;124mUnsupported message type: \u001b[39m\u001b[38;5;132;01m{\u001b[39;00m\u001b[38;5;28mtype\u001b[39m(message)\u001b[38;5;132;01m}\u001b[39;00m\u001b[38;5;124m\"\u001b[39m\n\u001b[1;32m    335\u001b[0m     msg \u001b[38;5;241m=\u001b[39m create_message(message\u001b[38;5;241m=\u001b[39mmsg, error_code\u001b[38;5;241m=\u001b[39mErrorCode\u001b[38;5;241m.\u001b[39mMESSAGE_COERCION_FAILURE)\n\u001b[0;32m--> 336\u001b[0m     \u001b[38;5;28;01mraise\u001b[39;00m \u001b[38;5;167;01mNotImplementedError\u001b[39;00m(msg)\n\u001b[1;32m    338\u001b[0m \u001b[38;5;28;01mreturn\u001b[39;00m _message\n",
      "\u001b[0;31mNotImplementedError\u001b[0m: Unsupported message type: <class 'list'>\nFor troubleshooting, visit: https://python.langchain.com/docs/troubleshooting/errors/MESSAGE_COERCION_FAILURE "
     ]
    }
   ],
   "source": [
    "trim_messages(\n",
    "            messages,\n",
    "            max_tokens=100,\n",
    "            strategy=\"last\",\n",
    "            token_counter=ChatOpenAI(model=\"gpt-4o\"),\n",
    "            allow_partial=False\n",
    "        )"
   ]
  },
  {
   "cell_type": "code",
   "execution_count": 33,
   "metadata": {},
   "outputs": [
    {
     "ename": "NotImplementedError",
     "evalue": "Unsupported message type: <class 'list'>\nFor troubleshooting, visit: https://python.langchain.com/docs/troubleshooting/errors/MESSAGE_COERCION_FAILURE ",
     "output_type": "error",
     "traceback": [
      "\u001b[0;31m---------------------------------------------------------------------------\u001b[0m",
      "\u001b[0;31mNotImplementedError\u001b[0m                       Traceback (most recent call last)",
      "Cell \u001b[0;32mIn[33], line 1\u001b[0m\n\u001b[0;32m----> 1\u001b[0m messages_out_trim \u001b[38;5;241m=\u001b[39m \u001b[43mgraph\u001b[49m\u001b[38;5;241;43m.\u001b[39;49m\u001b[43minvoke\u001b[49m\u001b[43m(\u001b[49m\u001b[43m{\u001b[49m\u001b[38;5;124;43m'\u001b[39;49m\u001b[38;5;124;43mmessages\u001b[39;49m\u001b[38;5;124;43m'\u001b[39;49m\u001b[43m:\u001b[49m\u001b[43m \u001b[49m\u001b[43mmessages\u001b[49m\u001b[43m}\u001b[49m\u001b[43m)\u001b[49m\n",
      "File \u001b[0;32m~/.pyenv/versions/3.13.0/lib/python3.13/site-packages/langgraph/pregel/__init__.py:1936\u001b[0m, in \u001b[0;36mPregel.invoke\u001b[0;34m(self, input, config, stream_mode, output_keys, interrupt_before, interrupt_after, debug, **kwargs)\u001b[0m\n\u001b[1;32m   1934\u001b[0m \u001b[38;5;28;01melse\u001b[39;00m:\n\u001b[1;32m   1935\u001b[0m     chunks \u001b[38;5;241m=\u001b[39m []\n\u001b[0;32m-> 1936\u001b[0m \u001b[43m\u001b[49m\u001b[38;5;28;43;01mfor\u001b[39;49;00m\u001b[43m \u001b[49m\u001b[43mchunk\u001b[49m\u001b[43m \u001b[49m\u001b[38;5;129;43;01min\u001b[39;49;00m\u001b[43m \u001b[49m\u001b[38;5;28;43mself\u001b[39;49m\u001b[38;5;241;43m.\u001b[39;49m\u001b[43mstream\u001b[49m\u001b[43m(\u001b[49m\n\u001b[1;32m   1937\u001b[0m \u001b[43m    \u001b[49m\u001b[38;5;28;43minput\u001b[39;49m\u001b[43m,\u001b[49m\n\u001b[1;32m   1938\u001b[0m \u001b[43m    \u001b[49m\u001b[43mconfig\u001b[49m\u001b[43m,\u001b[49m\n\u001b[1;32m   1939\u001b[0m \u001b[43m    \u001b[49m\u001b[43mstream_mode\u001b[49m\u001b[38;5;241;43m=\u001b[39;49m\u001b[43mstream_mode\u001b[49m\u001b[43m,\u001b[49m\n\u001b[1;32m   1940\u001b[0m \u001b[43m    \u001b[49m\u001b[43moutput_keys\u001b[49m\u001b[38;5;241;43m=\u001b[39;49m\u001b[43moutput_keys\u001b[49m\u001b[43m,\u001b[49m\n\u001b[1;32m   1941\u001b[0m \u001b[43m    \u001b[49m\u001b[43minterrupt_before\u001b[49m\u001b[38;5;241;43m=\u001b[39;49m\u001b[43minterrupt_before\u001b[49m\u001b[43m,\u001b[49m\n\u001b[1;32m   1942\u001b[0m \u001b[43m    \u001b[49m\u001b[43minterrupt_after\u001b[49m\u001b[38;5;241;43m=\u001b[39;49m\u001b[43minterrupt_after\u001b[49m\u001b[43m,\u001b[49m\n\u001b[1;32m   1943\u001b[0m \u001b[43m    \u001b[49m\u001b[43mdebug\u001b[49m\u001b[38;5;241;43m=\u001b[39;49m\u001b[43mdebug\u001b[49m\u001b[43m,\u001b[49m\n\u001b[1;32m   1944\u001b[0m \u001b[43m    \u001b[49m\u001b[38;5;241;43m*\u001b[39;49m\u001b[38;5;241;43m*\u001b[39;49m\u001b[43mkwargs\u001b[49m\u001b[43m,\u001b[49m\n\u001b[1;32m   1945\u001b[0m \u001b[43m\u001b[49m\u001b[43m)\u001b[49m\u001b[43m:\u001b[49m\n\u001b[1;32m   1946\u001b[0m \u001b[43m    \u001b[49m\u001b[38;5;28;43;01mif\u001b[39;49;00m\u001b[43m \u001b[49m\u001b[43mstream_mode\u001b[49m\u001b[43m \u001b[49m\u001b[38;5;241;43m==\u001b[39;49m\u001b[43m \u001b[49m\u001b[38;5;124;43m\"\u001b[39;49m\u001b[38;5;124;43mvalues\u001b[39;49m\u001b[38;5;124;43m\"\u001b[39;49m\u001b[43m:\u001b[49m\n\u001b[1;32m   1947\u001b[0m \u001b[43m        \u001b[49m\u001b[43mlatest\u001b[49m\u001b[43m \u001b[49m\u001b[38;5;241;43m=\u001b[39;49m\u001b[43m \u001b[49m\u001b[43mchunk\u001b[49m\n",
      "File \u001b[0;32m~/.pyenv/versions/3.13.0/lib/python3.13/site-packages/langgraph/pregel/__init__.py:1655\u001b[0m, in \u001b[0;36mPregel.stream\u001b[0;34m(self, input, config, stream_mode, output_keys, interrupt_before, interrupt_after, debug, subgraphs)\u001b[0m\n\u001b[1;32m   1649\u001b[0m     get_waiter \u001b[38;5;241m=\u001b[39m \u001b[38;5;28;01mNone\u001b[39;00m  \u001b[38;5;66;03m# type: ignore[assignment]\u001b[39;00m\n\u001b[1;32m   1650\u001b[0m \u001b[38;5;66;03m# Similarly to Bulk Synchronous Parallel / Pregel model\u001b[39;00m\n\u001b[1;32m   1651\u001b[0m \u001b[38;5;66;03m# computation proceeds in steps, while there are channel updates\u001b[39;00m\n\u001b[1;32m   1652\u001b[0m \u001b[38;5;66;03m# channel updates from step N are only visible in step N+1\u001b[39;00m\n\u001b[1;32m   1653\u001b[0m \u001b[38;5;66;03m# channels are guaranteed to be immutable for the duration of the step,\u001b[39;00m\n\u001b[1;32m   1654\u001b[0m \u001b[38;5;66;03m# with channel updates applied only at the transition between steps\u001b[39;00m\n\u001b[0;32m-> 1655\u001b[0m \u001b[38;5;28;01mwhile\u001b[39;00m \u001b[43mloop\u001b[49m\u001b[38;5;241;43m.\u001b[39;49m\u001b[43mtick\u001b[49m\u001b[43m(\u001b[49m\u001b[43minput_keys\u001b[49m\u001b[38;5;241;43m=\u001b[39;49m\u001b[38;5;28;43mself\u001b[39;49m\u001b[38;5;241;43m.\u001b[39;49m\u001b[43minput_channels\u001b[49m\u001b[43m)\u001b[49m:\n\u001b[1;32m   1656\u001b[0m     \u001b[38;5;28;01mfor\u001b[39;00m _ \u001b[38;5;129;01min\u001b[39;00m runner\u001b[38;5;241m.\u001b[39mtick(\n\u001b[1;32m   1657\u001b[0m         loop\u001b[38;5;241m.\u001b[39mtasks\u001b[38;5;241m.\u001b[39mvalues(),\n\u001b[1;32m   1658\u001b[0m         timeout\u001b[38;5;241m=\u001b[39m\u001b[38;5;28mself\u001b[39m\u001b[38;5;241m.\u001b[39mstep_timeout,\n\u001b[0;32m   (...)\u001b[0m\n\u001b[1;32m   1661\u001b[0m     ):\n\u001b[1;32m   1662\u001b[0m         \u001b[38;5;66;03m# emit output\u001b[39;00m\n\u001b[1;32m   1663\u001b[0m         \u001b[38;5;28;01myield from\u001b[39;00m output()\n",
      "File \u001b[0;32m~/.pyenv/versions/3.13.0/lib/python3.13/site-packages/langgraph/pregel/loop.py:386\u001b[0m, in \u001b[0;36mPregelLoop.tick\u001b[0;34m(self, input_keys)\u001b[0m\n\u001b[1;32m    376\u001b[0m     print_step_writes(\n\u001b[1;32m    377\u001b[0m         \u001b[38;5;28mself\u001b[39m\u001b[38;5;241m.\u001b[39mstep,\n\u001b[1;32m    378\u001b[0m         writes,\n\u001b[0;32m   (...)\u001b[0m\n\u001b[1;32m    383\u001b[0m         ),\n\u001b[1;32m    384\u001b[0m     )\n\u001b[1;32m    385\u001b[0m \u001b[38;5;66;03m# all tasks have finished\u001b[39;00m\n\u001b[0;32m--> 386\u001b[0m mv_writes \u001b[38;5;241m=\u001b[39m \u001b[43mapply_writes\u001b[49m\u001b[43m(\u001b[49m\n\u001b[1;32m    387\u001b[0m \u001b[43m    \u001b[49m\u001b[38;5;28;43mself\u001b[39;49m\u001b[38;5;241;43m.\u001b[39;49m\u001b[43mcheckpoint\u001b[49m\u001b[43m,\u001b[49m\n\u001b[1;32m    388\u001b[0m \u001b[43m    \u001b[49m\u001b[38;5;28;43mself\u001b[39;49m\u001b[38;5;241;43m.\u001b[39;49m\u001b[43mchannels\u001b[49m\u001b[43m,\u001b[49m\n\u001b[1;32m    389\u001b[0m \u001b[43m    \u001b[49m\u001b[38;5;28;43mself\u001b[39;49m\u001b[38;5;241;43m.\u001b[39;49m\u001b[43mtasks\u001b[49m\u001b[38;5;241;43m.\u001b[39;49m\u001b[43mvalues\u001b[49m\u001b[43m(\u001b[49m\u001b[43m)\u001b[49m\u001b[43m,\u001b[49m\n\u001b[1;32m    390\u001b[0m \u001b[43m    \u001b[49m\u001b[38;5;28;43mself\u001b[39;49m\u001b[38;5;241;43m.\u001b[39;49m\u001b[43mcheckpointer_get_next_version\u001b[49m\u001b[43m,\u001b[49m\n\u001b[1;32m    391\u001b[0m \u001b[43m\u001b[49m\u001b[43m)\u001b[49m\n\u001b[1;32m    392\u001b[0m \u001b[38;5;66;03m# apply writes to managed values\u001b[39;00m\n\u001b[1;32m    393\u001b[0m \u001b[38;5;28;01mfor\u001b[39;00m key, values \u001b[38;5;129;01min\u001b[39;00m mv_writes\u001b[38;5;241m.\u001b[39mitems():\n",
      "File \u001b[0;32m~/.pyenv/versions/3.13.0/lib/python3.13/site-packages/langgraph/pregel/algo.py:293\u001b[0m, in \u001b[0;36mapply_writes\u001b[0;34m(checkpoint, channels, tasks, get_next_version)\u001b[0m\n\u001b[1;32m    291\u001b[0m \u001b[38;5;28;01mfor\u001b[39;00m chan, vals \u001b[38;5;129;01min\u001b[39;00m pending_writes_by_channel\u001b[38;5;241m.\u001b[39mitems():\n\u001b[1;32m    292\u001b[0m     \u001b[38;5;28;01mif\u001b[39;00m chan \u001b[38;5;129;01min\u001b[39;00m channels:\n\u001b[0;32m--> 293\u001b[0m         \u001b[38;5;28;01mif\u001b[39;00m \u001b[43mchannels\u001b[49m\u001b[43m[\u001b[49m\u001b[43mchan\u001b[49m\u001b[43m]\u001b[49m\u001b[38;5;241;43m.\u001b[39;49m\u001b[43mupdate\u001b[49m\u001b[43m(\u001b[49m\u001b[43mvals\u001b[49m\u001b[43m)\u001b[49m \u001b[38;5;129;01mand\u001b[39;00m get_next_version \u001b[38;5;129;01mis\u001b[39;00m \u001b[38;5;129;01mnot\u001b[39;00m \u001b[38;5;28;01mNone\u001b[39;00m:\n\u001b[1;32m    294\u001b[0m             checkpoint[\u001b[38;5;124m\"\u001b[39m\u001b[38;5;124mchannel_versions\u001b[39m\u001b[38;5;124m\"\u001b[39m][chan] \u001b[38;5;241m=\u001b[39m get_next_version(\n\u001b[1;32m    295\u001b[0m                 max_version,\n\u001b[1;32m    296\u001b[0m                 channels[chan],\n\u001b[1;32m    297\u001b[0m             )\n\u001b[1;32m    298\u001b[0m         updated_channels\u001b[38;5;241m.\u001b[39madd(chan)\n",
      "File \u001b[0;32m~/.pyenv/versions/3.13.0/lib/python3.13/site-packages/langgraph/channels/binop.py:88\u001b[0m, in \u001b[0;36mBinaryOperatorAggregate.update\u001b[0;34m(self, values)\u001b[0m\n\u001b[1;32m     86\u001b[0m     values \u001b[38;5;241m=\u001b[39m values[\u001b[38;5;241m1\u001b[39m:]\n\u001b[1;32m     87\u001b[0m \u001b[38;5;28;01mfor\u001b[39;00m value \u001b[38;5;129;01min\u001b[39;00m values:\n\u001b[0;32m---> 88\u001b[0m     \u001b[38;5;28mself\u001b[39m\u001b[38;5;241m.\u001b[39mvalue \u001b[38;5;241m=\u001b[39m \u001b[38;5;28;43mself\u001b[39;49m\u001b[38;5;241;43m.\u001b[39;49m\u001b[43moperator\u001b[49m\u001b[43m(\u001b[49m\u001b[38;5;28;43mself\u001b[39;49m\u001b[38;5;241;43m.\u001b[39;49m\u001b[43mvalue\u001b[49m\u001b[43m,\u001b[49m\u001b[43m \u001b[49m\u001b[43mvalue\u001b[49m\u001b[43m)\u001b[49m\n\u001b[1;32m     89\u001b[0m \u001b[38;5;28;01mreturn\u001b[39;00m \u001b[38;5;28;01mTrue\u001b[39;00m\n",
      "File \u001b[0;32m~/.pyenv/versions/3.13.0/lib/python3.13/site-packages/langgraph/graph/message.py:76\u001b[0m, in \u001b[0;36madd_messages\u001b[0;34m(left, right)\u001b[0m\n\u001b[1;32m     69\u001b[0m \u001b[38;5;66;03m# coerce to message\u001b[39;00m\n\u001b[1;32m     70\u001b[0m left \u001b[38;5;241m=\u001b[39m [\n\u001b[1;32m     71\u001b[0m     message_chunk_to_message(cast(BaseMessageChunk, m))\n\u001b[1;32m     72\u001b[0m     \u001b[38;5;28;01mfor\u001b[39;00m m \u001b[38;5;129;01min\u001b[39;00m convert_to_messages(left)\n\u001b[1;32m     73\u001b[0m ]\n\u001b[1;32m     74\u001b[0m right \u001b[38;5;241m=\u001b[39m [\n\u001b[1;32m     75\u001b[0m     message_chunk_to_message(cast(BaseMessageChunk, m))\n\u001b[0;32m---> 76\u001b[0m     \u001b[38;5;28;01mfor\u001b[39;00m m \u001b[38;5;129;01min\u001b[39;00m \u001b[43mconvert_to_messages\u001b[49m\u001b[43m(\u001b[49m\u001b[43mright\u001b[49m\u001b[43m)\u001b[49m\n\u001b[1;32m     77\u001b[0m ]\n\u001b[1;32m     78\u001b[0m \u001b[38;5;66;03m# assign missing ids\u001b[39;00m\n\u001b[1;32m     79\u001b[0m \u001b[38;5;28;01mfor\u001b[39;00m m \u001b[38;5;129;01min\u001b[39;00m left:\n",
      "File \u001b[0;32m~/.pyenv/versions/3.13.0/lib/python3.13/site-packages/langchain_core/messages/utils.py:357\u001b[0m, in \u001b[0;36mconvert_to_messages\u001b[0;34m(messages)\u001b[0m\n\u001b[1;32m    355\u001b[0m \u001b[38;5;28;01mif\u001b[39;00m \u001b[38;5;28misinstance\u001b[39m(messages, PromptValue):\n\u001b[1;32m    356\u001b[0m     \u001b[38;5;28;01mreturn\u001b[39;00m messages\u001b[38;5;241m.\u001b[39mto_messages()\n\u001b[0;32m--> 357\u001b[0m \u001b[38;5;28;01mreturn\u001b[39;00m [\u001b[43m_convert_to_message\u001b[49m\u001b[43m(\u001b[49m\u001b[43mm\u001b[49m\u001b[43m)\u001b[49m \u001b[38;5;28;01mfor\u001b[39;00m m \u001b[38;5;129;01min\u001b[39;00m messages]\n",
      "File \u001b[0;32m~/.pyenv/versions/3.13.0/lib/python3.13/site-packages/langchain_core/messages/utils.py:336\u001b[0m, in \u001b[0;36m_convert_to_message\u001b[0;34m(message)\u001b[0m\n\u001b[1;32m    334\u001b[0m     msg \u001b[38;5;241m=\u001b[39m \u001b[38;5;124mf\u001b[39m\u001b[38;5;124m\"\u001b[39m\u001b[38;5;124mUnsupported message type: \u001b[39m\u001b[38;5;132;01m{\u001b[39;00m\u001b[38;5;28mtype\u001b[39m(message)\u001b[38;5;132;01m}\u001b[39;00m\u001b[38;5;124m\"\u001b[39m\n\u001b[1;32m    335\u001b[0m     msg \u001b[38;5;241m=\u001b[39m create_message(message\u001b[38;5;241m=\u001b[39mmsg, error_code\u001b[38;5;241m=\u001b[39mErrorCode\u001b[38;5;241m.\u001b[39mMESSAGE_COERCION_FAILURE)\n\u001b[0;32m--> 336\u001b[0m     \u001b[38;5;28;01mraise\u001b[39;00m \u001b[38;5;167;01mNotImplementedError\u001b[39;00m(msg)\n\u001b[1;32m    338\u001b[0m \u001b[38;5;28;01mreturn\u001b[39;00m _message\n",
      "\u001b[0;31mNotImplementedError\u001b[0m: Unsupported message type: <class 'list'>\nFor troubleshooting, visit: https://python.langchain.com/docs/troubleshooting/errors/MESSAGE_COERCION_FAILURE "
     ]
    }
   ],
   "source": [
    "messages_out_trim = graph.invoke({'messages': messages})\n"
   ]
  }
 ],
 "metadata": {
  "kernelspec": {
   "display_name": "3.13.0",
   "language": "python",
   "name": "python3"
  },
  "language_info": {
   "codemirror_mode": {
    "name": "ipython",
    "version": 3
   },
   "file_extension": ".py",
   "mimetype": "text/x-python",
   "name": "python",
   "nbconvert_exporter": "python",
   "pygments_lexer": "ipython3",
   "version": "3.13.0"
  }
 },
 "nbformat": 4,
 "nbformat_minor": 2
}
