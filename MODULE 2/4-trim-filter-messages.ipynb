{
 "cells": [
  {
   "cell_type": "code",
   "execution_count": 10,
   "metadata": {},
   "outputs": [
    {
     "name": "stdout",
     "output_type": "stream",
     "text": [
      "==================================\u001b[1m Ai Message \u001b[0m==================================\n",
      "Name: Bot\n",
      "\n",
      "So you said you were researching fictional creatures?\n",
      "================================\u001b[1m Human Message \u001b[0m=================================\n",
      "Name: Lance\n",
      "\n",
      "Yes, I was wondering if there were mythical beings other than dragons.\n"
     ]
    }
   ],
   "source": [
    "from langchain_core.messages import AIMessage, HumanMessage\n",
    "from langgraph.graph.message import add_messages\n",
    "\n",
    "messages = [AIMessage(f\"So you said you were researching fictional creatures?\", name=\"Bot\")]\n",
    "messages = add_messages(messages, HumanMessage(f\"Yes, I was wondering if there were mythical beings other than dragons.\", name=\"Lance\"))\n",
    "\n",
    "for m in messages:\n",
    "    m.pretty_print()"
   ]
  },
  {
   "cell_type": "code",
   "execution_count": 11,
   "metadata": {},
   "outputs": [
    {
     "data": {
      "text/plain": [
       "AIMessage(content='Absolutely! There are numerous mythical beings from various cultures around the world. Here are a few examples:\\n\\n1. **Phoenix**: A mythical bird that is said to burst into flames upon death and be reborn from its ashes, symbolizing renewal and immortality. It appears in various cultures, including Greek, Egyptian, and Chinese mythology.\\n\\n2. **Unicorn**: A legendary creature often depicted as a horse with a single, spiraling horn protruding from its forehead. It is commonly associated with purity and grace and appears in European folklore.\\n\\n3. **Griffin**: A creature with the body of a lion and the head and wings of an eagle. Griffins are known for guarding treasures and valuables in various mythologies, particularly Greek.\\n\\n4. **Kraken**: A legendary sea monster of enormous size said to dwell off the coasts of Norway and Greenland. It often appears as a giant octopus or squid capable of dragging entire ships under the sea.\\n\\n5. **Chimera**: In Greek mythology, the Chimera is a monstrous fire-breathing hybrid creature composed of parts from different animals, typically a lion, goat, and serpent.\\n\\n6. **Banshee**: In Irish folklore, a banshee is a spirit or fairy woman who wails to warn of an impending death in a family.\\n\\n7. **Minotaur**: A creature with the head of a bull and the body of a man, which in Greek mythology was kept in the Labyrinth on the island of Crete.\\n\\n8. **Yeti**: Also known as the \"Abominable Snowman,\" the Yeti is a mythical ape-like creature said to inhabit the Himalayan mountains.\\n\\nThese are just a few examples, and there are many more mythical creatures with rich histories and variations across different cultures.', additional_kwargs={'refusal': None}, response_metadata={'token_usage': {'completion_tokens': 369, 'prompt_tokens': 38, 'total_tokens': 407, 'completion_tokens_details': {'accepted_prediction_tokens': 0, 'audio_tokens': 0, 'reasoning_tokens': 0, 'rejected_prediction_tokens': 0}, 'prompt_tokens_details': {'audio_tokens': 0, 'cached_tokens': 0}}, 'model_name': 'gpt-4o-2024-08-06', 'system_fingerprint': 'fp_d28bcae782', 'finish_reason': 'stop', 'logprobs': None}, id='run-fc3231cf-b428-400d-85f4-b71a458a065a-0', usage_metadata={'input_tokens': 38, 'output_tokens': 369, 'total_tokens': 407, 'input_token_details': {'audio': 0, 'cache_read': 0}, 'output_token_details': {'audio': 0, 'reasoning': 0}})"
      ]
     },
     "execution_count": 11,
     "metadata": {},
     "output_type": "execute_result"
    }
   ],
   "source": [
    "from langchain_openai import ChatOpenAI\n",
    "llm = ChatOpenAI(model=\"gpt-4o\")\n",
    "llm.invoke(messages)"
   ]
  },
  {
   "cell_type": "code",
   "execution_count": 12,
   "metadata": {},
   "outputs": [
    {
     "data": {
      "image/png": "[encoded data removed]",
      "text/plain": [
       "<IPython.core.display.Image object>"
      ]
     },
     "metadata": {},
     "output_type": "display_data"
    }
   ],
   "source": [
    "from IPython.display import Image, display\n",
    "from langgraph.graph import MessagesState, StateGraph, START, END\n",
    "\n",
    "def chat_model_node(state: MessagesState):\n",
    "    return {\"messages\": llm.invoke(state[\"messages\"])}\n",
    "\n",
    "builder = StateGraph(MessagesState)\n",
    "builder.add_node(\"chat_model\", chat_model_node)\n",
    "builder.add_edge(START, \"chat_model\")\n",
    "builder.add_edge(\"chat_model\", END)\n",
    "graph = builder.compile()\n",
    "\n",
    "display(Image(graph.get_graph().draw_mermaid_png()))"
   ]
  },
  {
   "cell_type": "code",
   "execution_count": 13,
   "metadata": {},
   "outputs": [
    {
     "name": "stdout",
     "output_type": "stream",
     "text": [
      "==================================\u001b[1m Ai Message \u001b[0m==================================\n",
      "Name: Bot\n",
      "\n",
      "So you said you were researching fictional creatures?\n",
      "================================\u001b[1m Human Message \u001b[0m=================================\n",
      "Name: Lance\n",
      "\n",
      "Yes, I was wondering if there were mythical beings other than dragons.\n",
      "==================================\u001b[1m Ai Message \u001b[0m==================================\n",
      "\n",
      "Absolutely, there are many mythical beings from various cultures around the world, each with their own unique characteristics and stories. Here are a few examples:\n",
      "\n",
      "1. **Phoenix**: A mythical bird from Greek mythology that is cyclically regenerated or reborn. Associated with the sun, it obtains new life by arising from the ashes of its predecessor.\n",
      "\n",
      "2. **Unicorn**: A legendary creature that has been described since antiquity as a beast with a single large, pointed, spiraling horn projecting from its forehead. Often depicted as a symbol of purity and grace in Western mythology.\n",
      "\n",
      "3. **Griffin**: A creature with the body, tail, and back legs of a lion, the head and wings of an eagle, and sometimes an eagle's talons as its front feet. Griffins are known for guarding treasures and priceless possessions.\n",
      "\n",
      "4. **Kraken**: A legendary sea monster of enormous size said to dwell off the coasts of Norway and Greenland. It is often depicted as a giant octopus or squid.\n",
      "\n",
      "5. **Chimera**: In Greek mythology, a monstrous fire-breathing hybrid creature composed of the parts of more than one animal. It is usually depicted as a lion, with the head of a goat arising from its back, and a tail that might end with a snake's head.\n",
      "\n",
      "6. **Banshee**: In Irish folklore, a banshee is a female spirit who heralds the death of a family member, usually by wailing or shrieking.\n",
      "\n",
      "7. **Yeti**: Also known as the Abominable Snowman, it is an ape-like creature said to inhabit the Himalayan mountain range in Asia.\n",
      "\n",
      "8. **Mermaid**: A legendary aquatic creature with the head and upper body of a female human and the tail of a fish.\n",
      "\n",
      "These are just a few examples, and many cultures have their own unique mythical creatures, each with a rich history of stories and symbolism.\n"
     ]
    }
   ],
   "source": [
    "output = graph.invoke({'messages': messages})\n",
    "for m in output['messages']:\n",
    "    m.pretty_print()"
   ]
  },
  {
   "cell_type": "code",
   "execution_count": 14,
   "metadata": {},
   "outputs": [
    {
     "data": {
      "image/png": "[encoded data removed]",
      "text/plain": [
       "<IPython.core.display.Image object>"
      ]
     },
     "metadata": {},
     "output_type": "display_data"
    }
   ],
   "source": [
    "from langchain_core.messages import RemoveMessage\n",
    "\n",
    "def filter_messages(state: MessagesState):\n",
    "    delete_messages = [RemoveMessage(id=m.id) for m in state[\"messages\"][:-2]]\n",
    "    return {\"messages\": delete_messages}\n",
    "\n",
    "def chat_model_node(state: MessagesState):\n",
    "    return {\"messages\": [llm.invoke(state[\"messages\"])]}\n",
    "\n",
    "builder = StateGraph(MessagesState)\n",
    "builder.add_node(\"filter\", filter_messages)\n",
    "builder.add_node(\"chat_model\", chat_model_node)\n",
    "builder.add_edge(START, \"filter\")\n",
    "builder.add_edge(\"filter\", \"chat_model\")\n",
    "builder.add_edge(\"chat_model\", END)\n",
    "graph = builder.compile()\n",
    "\n",
    "display(Image(graph.get_graph().draw_mermaid_png()))"
   ]
  },
  {
   "cell_type": "code",
   "execution_count": 15,
   "metadata": {},
   "outputs": [],
   "source": [
    "messages = [AIMessage(\"Hi.\", name=\"Bot\", id=\"1\")]\n",
    "messages.append(HumanMessage(\"Hi.\", name=\"Lance\", id=\"2\"))\n",
    "messages.append(AIMessage(f\"So you said you were researching fictional creatures?\", name=\"Bot\", id=\"3\"))\n",
    "messages.append(HumanMessage(f\"Yes, I was wondering if there were mythical beings other than dragons.\", name=\"Lance\", id=\"4\"))"
   ]
  },
  {
   "cell_type": "code",
   "execution_count": 17,
   "metadata": {},
   "outputs": [
    {
     "name": "stdout",
     "output_type": "stream",
     "text": [
      "==================================\u001b[1m Ai Message \u001b[0m==================================\n",
      "Name: Bot\n",
      "\n",
      "So you said you were researching fictional creatures?\n",
      "================================\u001b[1m Human Message \u001b[0m=================================\n",
      "Name: Lance\n",
      "\n",
      "Yes, I was wondering if there were mythical beings other than dragons.\n",
      "==================================\u001b[1m Ai Message \u001b[0m==================================\n",
      "\n",
      "Certainly! There are numerous mythical creatures from cultures around the world, each with its own unique characteristics and stories. Here are a few notable ones:\n",
      "\n",
      "1. **Unicorn** - A legendary horse-like creature with a single spiraling horn on its forehead, often associated with purity and grace.\n",
      "\n",
      "2. **Phoenix** - A mythical bird that regenerates or is reborn from its ashes after dying, symbolizing renewal and immortality.\n",
      "\n",
      "3. **Kraken** - A giant sea monster from Scandinavian folklore, said to dwell off the coasts of Norway and Greenland, often depicted as a massive octopus or squid.\n",
      "\n",
      "4. **Griffin** - A creature with the body of a lion and the head and wings of an eagle, known for being a guardian of treasures.\n",
      "\n",
      "5. **Chimera** - From Greek mythology, a fire-breathing hybrid creature usually depicted as a lion with the head of a goat arising from its back and a tail that ends with a snake's head.\n",
      "\n",
      "6. **Minotaur** - A creature with the body of a man and the head of a bull, famously associated with the labyrinth of Crete.\n",
      "\n",
      "7. **Banshee** - From Irish folklore, a female spirit who heralds the death of a family member by wailing or keening.\n",
      "\n",
      "8. **Yeti** - Also known as the Abominable Snowman, a large, ape-like creature said to inhabit the Himalayan mountains.\n",
      "\n",
      "9. **Mermaid/Merman** - Aquatic beings with the upper body of a human and the tail of a fish, appearing in the folklore of many cultures worldwide.\n",
      "\n",
      "10. **Cerberus** - The multi-headed dog that guards the entrance to the underworld in Greek mythology, preventing the dead from leaving.\n",
      "\n",
      "These creatures often serve as symbols or carry moral lessons in their respective mythologies, and they continue to capture the human imagination in literature, art, and popular culture.\n"
     ]
    }
   ],
   "source": [
    "output = graph.invoke({'messages': messages})\n",
    "for m in output['messages']:\n",
    "    m.pretty_print()"
   ]
  },
  {
   "cell_type": "code",
   "execution_count": 20,
   "metadata": {},
   "outputs": [
    {
     "data": {
      "image/png": "[encoded data removed]",
      "text/plain": [
       "<IPython.core.display.Image object>"
      ]
     },
     "metadata": {},
     "output_type": "display_data"
    }
   ],
   "source": [
    "def chat_model_node(state: MessagesState):\n",
    "    return {\"messages\": [llm.invoke(state[\"messages\"][-1:])]}\n",
    "\n",
    "builder = StateGraph(MessagesState)\n",
    "builder.add_node(\"chat_model\", chat_model_node)\n",
    "builder.add_edge(START, \"chat_model\")\n",
    "builder.add_edge(\"chat_model\", END)\n",
    "graph = builder.compile()\n",
    "\n",
    "display(Image(graph.get_graph().draw_mermaid_png()))"
   ]
  },
  {
   "cell_type": "code",
   "execution_count": 37,
   "metadata": {},
   "outputs": [
    {
     "name": "stdout",
     "output_type": "stream",
     "text": [
      "==================================\u001b[1m Ai Message \u001b[0m==================================\n",
      "\n",
      "Krakens are legendary sea monsters of enormous size that are said to dwell off the coasts of Norway and Greenland. They are often depicted as gigantic octopus or squid-like creatures and have been a part of maritime folklore for centuries. The myth of the Kraken likely originated from sightings of real-life giant squids, which can grow to impressive lengths and are capable of powerful displays in the water.\n",
      "\n",
      "### Historical Accounts and Folklore:\n",
      "1. **Scandinavian Origins**: The Kraken is deeply rooted in Norse mythology and Scandinavian folklore. It was first mentioned in a travelogue by Francesco Negri in 1700. The earliest description resembling the Kraken appears in the travelogue of Francesco Negri from 1700.\n",
      "\n",
      "2. **Erik Pontoppidan**: In the 18th century, Bishop Erik Pontoppidan of Bergen provided one of the earliest detailed descriptions of the Kraken in his work \"The Natural History of Norway\" (1752). He described it as a creature so large that its body could be mistaken for an island.\n",
      "\n",
      "3. **The Kraken in Literature**: The Kraken has appeared in various works of fiction, most notably in Alfred Lord Tennyson's sonnet \"The Kraken,\" as well as in Herman Melville's \"Moby-Dick.\"\n",
      "\n",
      "### Characteristics:\n",
      "- **Size**: Krakens are described as being incredibly large, with some tales suggesting they could wrap their tentacles around entire ships and drag them underwater.\n",
      "- **Appearance**: Typically depicted with long tentacles, similar to an octopus or squid, and often featuring a massive, gaping mouth.\n",
      "- **Behavior**: Legends often portray Krakens as dangerous creatures capable of creating massive whirlpools to sink ships.\n",
      "\n",
      "### Modern Interpretations:\n",
      "- **In Popular Culture**: The Kraken has been popularized in various films, television shows, and video games, often depicted as a colossal and terrifying creature. It's featured in movies like \"Pirates of the Caribbean: Dead Man's Chest\" and has become a staple of sea monster lore.\n",
      "- **Scientific Basis**: Some believe that the myths of the Kraken were inspired by real-life encounters with giant squids or colossal squids, which can grow up to 43 feet long.\n",
      "\n",
      "In summary, the Kraken is a fascinating blend of myth, literature, and potential reality, capturing the human imagination with its awe-inspiring size and the mystery of the deep sea.\n",
      "================================\u001b[1m Human Message \u001b[0m=================================\n",
      "Name: Lance\n",
      "\n",
      "Tell me more about Krakens\n",
      "==================================\u001b[1m Ai Message \u001b[0m==================================\n",
      "\n",
      "Krakens are legendary sea monsters that originate from Scandinavian folklore. Described as colossal creatures, they are said to dwell off the coasts of Norway and Greenland. Over time, the kraken has been depicted as resembling a giant octopus or squid, with enormous tentacles capable of reaching the top of a ship’s mast and dragging entire vessels and their crews into the ocean depths.\n",
      "\n",
      "The myth of the kraken likely has roots in sailors' encounters with real-life giant squids, which can grow to impressive sizes. These creatures, though not large enough to destroy ships, could have inspired tales of monstrous sea creatures due to their elusive nature and unusual appearance.\n",
      "\n",
      "In literature and popular culture, the kraken has been a symbol of the mysterious and often dangerous nature of the sea. It has appeared in various works, such as Alfred Lord Tennyson’s poem \"The Kraken\" and more contemporary representations in movies and games, where it continues to capture the imagination as a formidable and enigmatic sea beast.\n",
      "\n",
      "Throughout history, the kraken has evolved from a maritime myth into a cultural icon, representing both the fear of the unknown and the allure of the ocean's depths.\n"
     ]
    }
   ],
   "source": [
    "messages.append(output['messages'][-1])\n",
    "messages.append(HumanMessage(f\"Tell me more about Krakens\", name=\"Lance\"))\n",
    "\n",
    "output = graph.invoke({'messages': messages})\n",
    "for m in output['messages']:\n",
    "    m.pretty_print()"
   ]
  },
  {
   "cell_type": "code",
   "execution_count": 28,
   "metadata": {},
   "outputs": [
    {
     "name": "stdout",
     "output_type": "stream",
     "text": [
      "==================================\u001b[1m Ai Message \u001b[0m==================================\n",
      "Name: Bot\n",
      "\n",
      "Hi.\n",
      "================================\u001b[1m Human Message \u001b[0m=================================\n",
      "Name: Lance\n",
      "\n",
      "Hi.\n",
      "==================================\u001b[1m Ai Message \u001b[0m==================================\n",
      "Name: Bot\n",
      "\n",
      "So you said you were researching fictional creatures?\n",
      "================================\u001b[1m Human Message \u001b[0m=================================\n",
      "Name: Lance\n",
      "\n",
      "Yes, I was wondering if there were mythical beings other than dragons.\n",
      "==================================\u001b[1m Ai Message \u001b[0m==================================\n",
      "\n",
      "Certainly! There are numerous mythical creatures from cultures around the world, each with its own unique characteristics and stories. Here are a few notable ones:\n",
      "\n",
      "1. **Unicorn** - A legendary horse-like creature with a single spiraling horn on its forehead, often associated with purity and grace.\n",
      "\n",
      "2. **Phoenix** - A mythical bird that regenerates or is reborn from its ashes after dying, symbolizing renewal and immortality.\n",
      "\n",
      "3. **Kraken** - A giant sea monster from Scandinavian folklore, said to dwell off the coasts of Norway and Greenland, often depicted as a massive octopus or squid.\n",
      "\n",
      "4. **Griffin** - A creature with the body of a lion and the head and wings of an eagle, known for being a guardian of treasures.\n",
      "\n",
      "5. **Chimera** - From Greek mythology, a fire-breathing hybrid creature usually depicted as a lion with the head of a goat arising from its back and a tail that ends with a snake's head.\n",
      "\n",
      "6. **Minotaur** - A creature with the body of a man and the head of a bull, famously associated with the labyrinth of Crete.\n",
      "\n",
      "7. **Banshee** - From Irish folklore, a female spirit who heralds the death of a family member by wailing or keening.\n",
      "\n",
      "8. **Yeti** - Also known as the Abominable Snowman, a large, ape-like creature said to inhabit the Himalayan mountains.\n",
      "\n",
      "9. **Mermaid/Merman** - Aquatic beings with the upper body of a human and the tail of a fish, appearing in the folklore of many cultures worldwide.\n",
      "\n",
      "10. **Cerberus** - The multi-headed dog that guards the entrance to the underworld in Greek mythology, preventing the dead from leaving.\n",
      "\n",
      "These creatures often serve as symbols or carry moral lessons in their respective mythologies, and they continue to capture the human imagination in literature, art, and popular culture.\n",
      "================================\u001b[1m Human Message \u001b[0m=================================\n",
      "Name: Lance\n",
      "\n",
      "Tell me more about Krakens\n",
      "==================================\u001b[1m Ai Message \u001b[0m==================================\n",
      "\n",
      "Certainly! There are numerous mythical creatures from cultures around the world, each with its own unique characteristics and stories. Here are a few notable ones:\n",
      "\n",
      "1. **Unicorn** - A legendary horse-like creature with a single spiraling horn on its forehead, often associated with purity and grace.\n",
      "\n",
      "2. **Phoenix** - A mythical bird that regenerates or is reborn from its ashes after dying, symbolizing renewal and immortality.\n",
      "\n",
      "3. **Kraken** - A giant sea monster from Scandinavian folklore, said to dwell off the coasts of Norway and Greenland, often depicted as a massive octopus or squid.\n",
      "\n",
      "4. **Griffin** - A creature with the body of a lion and the head and wings of an eagle, known for being a guardian of treasures.\n",
      "\n",
      "5. **Chimera** - From Greek mythology, a fire-breathing hybrid creature usually depicted as a lion with the head of a goat arising from its back and a tail that ends with a snake's head.\n",
      "\n",
      "6. **Minotaur** - A creature with the body of a man and the head of a bull, famously associated with the labyrinth of Crete.\n",
      "\n",
      "7. **Banshee** - From Irish folklore, a female spirit who heralds the death of a family member by wailing or keening.\n",
      "\n",
      "8. **Yeti** - Also known as the Abominable Snowman, a large, ape-like creature said to inhabit the Himalayan mountains.\n",
      "\n",
      "9. **Mermaid/Merman** - Aquatic beings with the upper body of a human and the tail of a fish, appearing in the folklore of many cultures worldwide.\n",
      "\n",
      "10. **Cerberus** - The multi-headed dog that guards the entrance to the underworld in Greek mythology, preventing the dead from leaving.\n",
      "\n",
      "These creatures often serve as symbols or carry moral lessons in their respective mythologies, and they continue to capture the human imagination in literature, art, and popular culture.\n",
      "================================\u001b[1m Human Message \u001b[0m=================================\n",
      "Name: Lance\n",
      "\n",
      "Tell me more about Krakens\n",
      "==================================\u001b[1m Ai Message \u001b[0m==================================\n",
      "\n",
      "Krakens are legendary sea monsters of enormous size that are said to dwell off the coasts of Norway and Greenland. They are often depicted as gigantic octopus or squid-like creatures and have been a part of maritime folklore for centuries. The myth of the Kraken likely originated from sightings of real-life giant squids, which can grow to impressive lengths and are capable of powerful displays in the water.\n",
      "\n",
      "### Historical Accounts and Folklore:\n",
      "1. **Scandinavian Origins**: The Kraken is deeply rooted in Norse mythology and Scandinavian folklore. It was first mentioned in a travelogue by Francesco Negri in 1700. The earliest description resembling the Kraken appears in the travelogue of Francesco Negri from 1700.\n",
      "\n",
      "2. **Erik Pontoppidan**: In the 18th century, Bishop Erik Pontoppidan of Bergen provided one of the earliest detailed descriptions of the Kraken in his work \"The Natural History of Norway\" (1752). He described it as a creature so large that its body could be mistaken for an island.\n",
      "\n",
      "3. **The Kraken in Literature**: The Kraken has appeared in various works of fiction, most notably in Alfred Lord Tennyson's sonnet \"The Kraken,\" as well as in Herman Melville's \"Moby-Dick.\"\n",
      "\n",
      "### Characteristics:\n",
      "- **Size**: Krakens are described as being incredibly large, with some tales suggesting they could wrap their tentacles around entire ships and drag them underwater.\n",
      "- **Appearance**: Typically depicted with long tentacles, similar to an octopus or squid, and often featuring a massive, gaping mouth.\n",
      "- **Behavior**: Legends often portray Krakens as dangerous creatures capable of creating massive whirlpools to sink ships.\n",
      "\n",
      "### Modern Interpretations:\n",
      "- **In Popular Culture**: The Kraken has been popularized in various films, television shows, and video games, often depicted as a colossal and terrifying creature. It's featured in movies like \"Pirates of the Caribbean: Dead Man's Chest\" and has become a staple of sea monster lore.\n",
      "- **Scientific Basis**: Some believe that the myths of the Kraken were inspired by real-life encounters with giant squids or colossal squids, which can grow up to 43 feet long.\n",
      "\n",
      "In summary, the Kraken is a fascinating blend of myth, literature, and potential reality, capturing the human imagination with its awe-inspiring size and the mystery of the deep sea.\n"
     ]
    }
   ],
   "source": [
    "for m in output['messages']:\n",
    "    m.pretty_print()"
   ]
  },
  {
   "cell_type": "markdown",
   "metadata": {},
   "source": [
    "# Trim Messages"
   ]
  },
  {
   "cell_type": "code",
   "execution_count": 31,
   "metadata": {},
   "outputs": [
    {
     "data": {
      "image/png": "[encoded data removed]",
      "text/plain": [
       "<IPython.core.display.Image object>"
      ]
     },
     "metadata": {},
     "output_type": "display_data"
    }
   ],
   "source": [
    "from langchain_core.messages import trim_messages\n",
    "\n",
    "def chat_model_node(state: MessagesState):\n",
    "    messages = trim_messages(\n",
    "        state[\"messages\"],\n",
    "        max_tokens=100,\n",
    "        strategy=\"last\",\n",
    "        token_counter=ChatOpenAI(model=\"gpt-4o\"),\n",
    "        allow_partial=False,\n",
    "    )\n",
    "    return {\"messages\": [llm.invoke(messages)]}\n",
    "\n",
    "builder = StateGraph(MessagesState)\n",
    "builder.add_node(\"chat_model\", chat_model_node)\n",
    "builder.add_edge(START, \"chat_model\")\n",
    "builder.add_edge(\"chat_model\", END)\n",
    "graph = builder.compile()\n",
    "\n",
    "display(Image(graph.get_graph().draw_mermaid_png()))"
   ]
  },
  {
   "cell_type": "code",
   "execution_count": 38,
   "metadata": {},
   "outputs": [],
   "source": [
    "messages.append(output[\"messages\"][-1])\n",
    "messages.append(HumanMessage(f\"Tell me more about mythical sea creatures\", name=\"Lance\"))"
   ]
  },
  {
   "cell_type": "code",
   "execution_count": 39,
   "metadata": {},
   "outputs": [
    {
     "data": {
      "text/plain": [
       "[HumanMessage(content='Tell me more about mythical sea creatures', additional_kwargs={}, response_metadata={}, name='Lance')]"
      ]
     },
     "execution_count": 39,
     "metadata": {},
     "output_type": "execute_result"
    }
   ],
   "source": [
    "trim_messages(\n",
    "            messages,\n",
    "            max_tokens=100,\n",
    "            strategy=\"last\",\n",
    "            token_counter=ChatOpenAI(model=\"gpt-4o\"),\n",
    "            allow_partial=False\n",
    "        )"
   ]
  },
  {
   "cell_type": "code",
   "execution_count": 40,
   "metadata": {},
   "outputs": [],
   "source": [
    "messages_out_trim = graph.invoke({'messages': messages})\n"
   ]
  },
  {
   "cell_type": "code",
   "execution_count": 41,
   "metadata": {},
   "outputs": [
    {
     "name": "stdout",
     "output_type": "stream",
     "text": [
      "==================================\u001b[1m Ai Message \u001b[0m==================================\n",
      "\n",
      "Krakens are legendary sea monsters of enormous size that are said to dwell off the coasts of Norway and Greenland. They are often depicted as gigantic octopus or squid-like creatures and have been a part of maritime folklore for centuries. The myth of the Kraken likely originated from sightings of real-life giant squids, which can grow to impressive lengths and are capable of powerful displays in the water.\n",
      "\n",
      "### Historical Accounts and Folklore:\n",
      "1. **Scandinavian Origins**: The Kraken is deeply rooted in Norse mythology and Scandinavian folklore. It was first mentioned in a travelogue by Francesco Negri in 1700. The earliest description resembling the Kraken appears in the travelogue of Francesco Negri from 1700.\n",
      "\n",
      "2. **Erik Pontoppidan**: In the 18th century, Bishop Erik Pontoppidan of Bergen provided one of the earliest detailed descriptions of the Kraken in his work \"The Natural History of Norway\" (1752). He described it as a creature so large that its body could be mistaken for an island.\n",
      "\n",
      "3. **The Kraken in Literature**: The Kraken has appeared in various works of fiction, most notably in Alfred Lord Tennyson's sonnet \"The Kraken,\" as well as in Herman Melville's \"Moby-Dick.\"\n",
      "\n",
      "### Characteristics:\n",
      "- **Size**: Krakens are described as being incredibly large, with some tales suggesting they could wrap their tentacles around entire ships and drag them underwater.\n",
      "- **Appearance**: Typically depicted with long tentacles, similar to an octopus or squid, and often featuring a massive, gaping mouth.\n",
      "- **Behavior**: Legends often portray Krakens as dangerous creatures capable of creating massive whirlpools to sink ships.\n",
      "\n",
      "### Modern Interpretations:\n",
      "- **In Popular Culture**: The Kraken has been popularized in various films, television shows, and video games, often depicted as a colossal and terrifying creature. It's featured in movies like \"Pirates of the Caribbean: Dead Man's Chest\" and has become a staple of sea monster lore.\n",
      "- **Scientific Basis**: Some believe that the myths of the Kraken were inspired by real-life encounters with giant squids or colossal squids, which can grow up to 43 feet long.\n",
      "\n",
      "In summary, the Kraken is a fascinating blend of myth, literature, and potential reality, capturing the human imagination with its awe-inspiring size and the mystery of the deep sea.\n",
      "================================\u001b[1m Human Message \u001b[0m=================================\n",
      "Name: Lance\n",
      "\n",
      "Tell me more about Krakens\n",
      "==================================\u001b[1m Ai Message \u001b[0m==================================\n",
      "\n",
      "Krakens are legendary sea monsters that originate from Scandinavian folklore. Described as colossal creatures, they are said to dwell off the coasts of Norway and Greenland. Over time, the kraken has been depicted as resembling a giant octopus or squid, with enormous tentacles capable of reaching the top of a ship’s mast and dragging entire vessels and their crews into the ocean depths.\n",
      "\n",
      "The myth of the kraken likely has roots in sailors' encounters with real-life giant squids, which can grow to impressive sizes. These creatures, though not large enough to destroy ships, could have inspired tales of monstrous sea creatures due to their elusive nature and unusual appearance.\n",
      "\n",
      "In literature and popular culture, the kraken has been a symbol of the mysterious and often dangerous nature of the sea. It has appeared in various works, such as Alfred Lord Tennyson’s poem \"The Kraken\" and more contemporary representations in movies and games, where it continues to capture the imagination as a formidable and enigmatic sea beast.\n",
      "\n",
      "Throughout history, the kraken has evolved from a maritime myth into a cultural icon, representing both the fear of the unknown and the allure of the ocean's depths.\n",
      "================================\u001b[1m Human Message \u001b[0m=================================\n",
      "Name: Lance\n",
      "\n",
      "Tell me more about mythical sea creatures\n",
      "==================================\u001b[1m Ai Message \u001b[0m==================================\n",
      "\n",
      "Mythical sea creatures have been a part of human folklore and mythology for centuries, stemming from sailors' tales, cultural myths, and the mystery of the ocean itself. Here's a look at some of the most fascinating mythical sea creatures:\n",
      "\n",
      "1. **Mermaids and Mermen**: Perhaps the most famous of all sea creatures, mermaids are often depicted as having the upper body of a human and the tail of a fish. They appear in folklore from many cultures, including Greek, where they were known as sirens, to the folklore of the British Isles. Mermen, the male counterparts, are less commonly mentioned but appear in various mythologies.\n",
      "\n",
      "2. **Kraken**: Originating from Scandinavian folklore, the kraken is a legendary sea monster said to dwell off the coast of Norway and Greenland. It is often depicted as a massive octopus or squid capable of dragging entire ships beneath the waves.\n",
      "\n",
      "3. **Leviathan**: In biblical texts and Jewish mythology, the Leviathan is a gigantic sea serpent or dragon. It is often used as a metaphor for chaos and is said to be one of the great sea monsters created by God.\n",
      "\n",
      "4. **Selkies**: Found in Scottish and Irish folklore, selkies are creatures that can transform from seals into humans by shedding their skin. They are often portrayed in tales of love and loss, where a human falls in love with a selkie who eventually returns to the sea.\n",
      "\n",
      "5. **Ceto**: In Greek mythology, Ceto is a primordial sea goddess and mother of many sea monsters, including the Gorgons and Echidna. She represents the dangers of the sea and is associated with large, fearsome sea creatures.\n",
      "\n",
      "6. **Ningen**: A modern myth originating from Japan, the Ningen is said to be a large humanoid sea creature spotted by fishermen and research vessels in the Antarctic Ocean. Descriptions vary, but they are often said to have a human-like shape with limbs and a face.\n",
      "\n",
      "7. **Aspidochelone**: From medieval bestiaries, this creature is described as a giant sea turtle or whale that appears to be an island. Sailors would unknowingly land on its back, mistaking it for solid ground, only to be dragged underwater when it submerged.\n",
      "\n",
      "8. **Umibōzu**: In Japanese folklore, the Umibōzu is a spirit or yokai that appears on calm seas. It is often described as having a dark, large, humanoid shape and is believed to capsize ships that speak to it.\n",
      "\n",
      "These mythical sea creatures often served as explanations for the unknown perils of the sea and were used to convey moral and cautionary tales. They highlight humanity's long-standing fascination and fear of the mysterious depths of the ocean.\n"
     ]
    }
   ],
   "source": [
    "for m in messages_out_trim['messages']:\n",
    "    m.pretty_print()"
   ]
  }
 ],
 "metadata": {
  "kernelspec": {
   "display_name": "3.13.0",
   "language": "python",
   "name": "python3"
  },
  "language_info": {
   "codemirror_mode": {
    "name": "ipython",
    "version": 3
   },
   "file_extension": ".py",
   "mimetype": "text/x-python",
   "name": "python",
   "nbconvert_exporter": "python",
   "pygments_lexer": "ipython3",
   "version": "3.13.0"
  }
 },
 "nbformat": 4,
 "nbformat_minor": 2
}
